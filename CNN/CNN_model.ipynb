{
 "cells": [
  {
   "cell_type": "markdown",
   "metadata": {},
   "source": [
    "# Set Up"
   ]
  },
  {
   "cell_type": "markdown",
   "metadata": {},
   "source": [
    "## Importing Libraries"
   ]
  },
  {
   "cell_type": "code",
   "execution_count": 43,
   "metadata": {},
   "outputs": [],
   "source": [
    "import pandas as pd\n",
    "import numpy as np\n",
    "import tensorflow as tf\n",
    "from tensorflow.keras import layers, models, regularizers\n",
    "from sklearn.model_selection import train_test_split\n",
    "from sklearn.preprocessing import StandardScaler\n",
    "from PIL import Image\n",
    "import matplotlib.pyplot as plt\n",
    "from tensorflow.keras.optimizers import Adam"
   ]
  },
  {
   "cell_type": "code",
   "execution_count": 44,
   "metadata": {},
   "outputs": [
    {
     "data": {
      "text/plain": [
       "'2.15.0'"
      ]
     },
     "execution_count": 44,
     "metadata": {},
     "output_type": "execute_result"
    }
   ],
   "source": [
    "tf.__version__"
   ]
  },
  {
   "cell_type": "code",
   "execution_count": 45,
   "metadata": {},
   "outputs": [
    {
     "name": "stdout",
     "output_type": "stream",
     "text": [
      "Num GPUs Available:  0\n"
     ]
    }
   ],
   "source": [
    "print(\"Num GPUs Available: \", len(tf.config.list_physical_devices('GPU')))"
   ]
  },
  {
   "cell_type": "markdown",
   "metadata": {},
   "source": [
    "## Extra"
   ]
  },
  {
   "cell_type": "markdown",
   "metadata": {},
   "source": [
    "# Data Collection/Preprocessing"
   ]
  },
  {
   "cell_type": "markdown",
   "metadata": {},
   "source": [
    "## Collecting Data"
   ]
  },
  {
   "cell_type": "code",
   "execution_count": 46,
   "metadata": {},
   "outputs": [],
   "source": [
    "data = pd.read_csv(\"../outputs/training_metadata.csv\")"
   ]
  },
  {
   "cell_type": "code",
   "execution_count": 47,
   "metadata": {},
   "outputs": [
    {
     "data": {
      "text/html": [
       "<div>\n",
       "<style scoped>\n",
       "    .dataframe tbody tr th:only-of-type {\n",
       "        vertical-align: middle;\n",
       "    }\n",
       "\n",
       "    .dataframe tbody tr th {\n",
       "        vertical-align: top;\n",
       "    }\n",
       "\n",
       "    .dataframe thead th {\n",
       "        text-align: right;\n",
       "    }\n",
       "</style>\n",
       "<table border=\"1\" class=\"dataframe\">\n",
       "  <thead>\n",
       "    <tr style=\"text-align: right;\">\n",
       "      <th></th>\n",
       "      <th>path</th>\n",
       "      <th>left</th>\n",
       "      <th>right</th>\n",
       "      <th>forward</th>\n",
       "      <th>backward</th>\n",
       "      <th>brake</th>\n",
       "    </tr>\n",
       "  </thead>\n",
       "  <tbody>\n",
       "    <tr>\n",
       "      <th>0</th>\n",
       "      <td>outputs/training_data/10.jpeg</td>\n",
       "      <td>0</td>\n",
       "      <td>0</td>\n",
       "      <td>1</td>\n",
       "      <td>0</td>\n",
       "      <td>0</td>\n",
       "    </tr>\n",
       "    <tr>\n",
       "      <th>1</th>\n",
       "      <td>outputs/training_data/11.jpeg</td>\n",
       "      <td>0</td>\n",
       "      <td>0</td>\n",
       "      <td>1</td>\n",
       "      <td>0</td>\n",
       "      <td>0</td>\n",
       "    </tr>\n",
       "    <tr>\n",
       "      <th>2</th>\n",
       "      <td>outputs/training_data/12.jpeg</td>\n",
       "      <td>0</td>\n",
       "      <td>0</td>\n",
       "      <td>1</td>\n",
       "      <td>0</td>\n",
       "      <td>0</td>\n",
       "    </tr>\n",
       "    <tr>\n",
       "      <th>3</th>\n",
       "      <td>outputs/training_data/20.jpeg</td>\n",
       "      <td>0</td>\n",
       "      <td>0</td>\n",
       "      <td>1</td>\n",
       "      <td>0</td>\n",
       "      <td>0</td>\n",
       "    </tr>\n",
       "    <tr>\n",
       "      <th>4</th>\n",
       "      <td>outputs/training_data/21.jpeg</td>\n",
       "      <td>0</td>\n",
       "      <td>0</td>\n",
       "      <td>1</td>\n",
       "      <td>0</td>\n",
       "      <td>0</td>\n",
       "    </tr>\n",
       "  </tbody>\n",
       "</table>\n",
       "</div>"
      ],
      "text/plain": [
       "                            path  left  right  forward  backward  brake\n",
       "0  outputs/training_data/10.jpeg     0      0        1         0      0\n",
       "1  outputs/training_data/11.jpeg     0      0        1         0      0\n",
       "2  outputs/training_data/12.jpeg     0      0        1         0      0\n",
       "3  outputs/training_data/20.jpeg     0      0        1         0      0\n",
       "4  outputs/training_data/21.jpeg     0      0        1         0      0"
      ]
     },
     "execution_count": 47,
     "metadata": {},
     "output_type": "execute_result"
    }
   ],
   "source": [
    "data.head()"
   ]
  },
  {
   "cell_type": "markdown",
   "metadata": {},
   "source": [
    "## Analyzing Data"
   ]
  },
  {
   "cell_type": "code",
   "execution_count": 48,
   "metadata": {},
   "outputs": [
    {
     "data": {
      "image/png": "[encoded data removed]",
      "text/plain": [
       "<Figure size 1000x600 with 1 Axes>"
      ]
     },
     "metadata": {},
     "output_type": "display_data"
    }
   ],
   "source": [
    "left_labels = data['left']\n",
    "right_labels = data['right']\n",
    "forward_labels = data['forward']\n",
    "backward_labels = data['backward']\n",
    "brake_labels = data['brake']\n",
    "\n",
    "left_counts = left_labels.value_counts()\n",
    "right_counts = right_labels.value_counts()\n",
    "forward_counts = forward_labels.value_counts()\n",
    "backward_counts = backward_labels.value_counts()\n",
    "brake_counts = brake_labels.value_counts()\n",
    "\n",
    "df = pd.DataFrame({\n",
    "    'Left': left_counts,\n",
    "    'Right': right_counts,\n",
    "    'Forward': forward_counts,\n",
    "    'Backward': backward_counts,\n",
    "    'Brake': brake_counts\n",
    "}).transpose()\n",
    "\n",
    "# Plot the distribution of labels\n",
    "fig, ax = plt.subplots(figsize=(10, 6))\n",
    "\n",
    "df.plot(kind='bar', stacked=True, ax=ax)\n",
    "ax.set_title('Label Distribution')\n",
    "ax.set_xlabel('Label')\n",
    "ax.set_ylabel('Frequency')\n",
    "ax.legend(['0', '1'], title='Label')\n",
    "\n",
    "plt.tight_layout()\n",
    "plt.show()"
   ]
  },
  {
   "cell_type": "markdown",
   "metadata": {},
   "source": [
    "## Preprocessing Data"
   ]
  },
  {
   "cell_type": "code",
   "execution_count": 49,
   "metadata": {},
   "outputs": [],
   "source": [
    "def load_image(image_path):\n",
    "    image = Image.open(\"../\"+image_path)\n",
    "    image = np.array(image)\n",
    "    return image"
   ]
  },
  {
   "cell_type": "code",
   "execution_count": 50,
   "metadata": {},
   "outputs": [
    {
     "data": {
      "text/plain": [
       "'outputs/training_data/10.jpeg'"
      ]
     },
     "execution_count": 50,
     "metadata": {},
     "output_type": "execute_result"
    }
   ],
   "source": [
    "data['path'][0]"
   ]
  },
  {
   "cell_type": "code",
   "execution_count": 51,
   "metadata": {},
   "outputs": [],
   "source": [
    "images = [load_image(image_path) for image_path in data['path']]\n",
    "images = np.array(images)"
   ]
  },
  {
   "cell_type": "code",
   "execution_count": 52,
   "metadata": {},
   "outputs": [
    {
     "data": {
      "text/plain": [
       "(64, 64)"
      ]
     },
     "execution_count": 52,
     "metadata": {},
     "output_type": "execute_result"
    }
   ],
   "source": [
    "images[0].shape"
   ]
  },
  {
   "cell_type": "code",
   "execution_count": 53,
   "metadata": {},
   "outputs": [],
   "source": [
    "# mean = np.mean(images, axis=(0, 1, 2))\n",
    "# std = np.std(images, axis=(0, 1, 2))\n",
    "# scaled_images = (images - mean) / std"
   ]
  },
  {
   "cell_type": "code",
   "execution_count": 54,
   "metadata": {},
   "outputs": [],
   "source": [
    "targets = data[['left', 'right', 'forward', 'brake']].values"
   ]
  },
  {
   "cell_type": "markdown",
   "metadata": {},
   "source": [
    "## Splitting Data"
   ]
  },
  {
   "cell_type": "code",
   "execution_count": 55,
   "metadata": {},
   "outputs": [],
   "source": [
    "X_train, X_temp, y_train, y_temp = train_test_split(\n",
    "    images, targets, test_size=0.2, random_state=42)\n",
    "X_val, X_test, y_val, y_test = train_test_split(\n",
    "    X_temp, y_temp, test_size=0.5, random_state=42)"
   ]
  },
  {
   "cell_type": "code",
   "execution_count": 56,
   "metadata": {},
   "outputs": [
    {
     "data": {
      "text/plain": [
       "42014"
      ]
     },
     "execution_count": 56,
     "metadata": {},
     "output_type": "execute_result"
    }
   ],
   "source": [
    "len(X_train)"
   ]
  },
  {
   "cell_type": "code",
   "execution_count": 57,
   "metadata": {},
   "outputs": [
    {
     "data": {
      "text/plain": [
       "5252"
      ]
     },
     "execution_count": 57,
     "metadata": {},
     "output_type": "execute_result"
    }
   ],
   "source": [
    "len(X_test)"
   ]
  },
  {
   "cell_type": "markdown",
   "metadata": {},
   "source": [
    "# Neural Network"
   ]
  },
  {
   "cell_type": "markdown",
   "metadata": {},
   "source": [
    "## Model Set Up"
   ]
  },
  {
   "cell_type": "code",
   "execution_count": 58,
   "metadata": {},
   "outputs": [
    {
     "name": "stderr",
     "output_type": "stream",
     "text": [
      "WARNING:absl:At this time, the v2.11+ optimizer `tf.keras.optimizers.Adam` runs slowly on M1/M2 Macs, please use the legacy Keras optimizer instead, located at `tf.keras.optimizers.legacy.Adam`.\n"
     ]
    }
   ],
   "source": [
    "optimizer = Adam(learning_rate=0.001)"
   ]
  },
  {
   "cell_type": "code",
   "execution_count": 59,
   "metadata": {},
   "outputs": [],
   "source": [
    "model = models.Sequential([\n",
    "    layers.Conv2D(64, (3, 3), activation='relu', input_shape=(\n",
    "        64, 64, 1)),\n",
    "    layers.MaxPooling2D(),\n",
    "    layers.BatchNormalization(),\n",
    "    layers.Conv2D(128, (3, 3), activation='relu'),\n",
    "    layers.MaxPooling2D(),\n",
    "    layers.BatchNormalization(),\n",
    "    layers.Conv2D(128, (3, 3), activation='relu'),\n",
    "    layers.MaxPooling2D(),\n",
    "    layers.BatchNormalization(),\n",
    "    layers.Conv2D(64, (3, 3), activation='relu'),\n",
    "    layers.MaxPooling2D(),\n",
    "    layers.BatchNormalization(),\n",
    "    layers.Flatten(),\n",
    "    layers.Dense(40, activation='relu'),\n",
    "    layers.Dropout(0.6),\n",
    "    layers.Dense(4, activation='sigmoid')\n",
    "])"
   ]
  },
  {
   "cell_type": "code",
   "execution_count": 60,
   "metadata": {},
   "outputs": [
    {
     "name": "stdout",
     "output_type": "stream",
     "text": [
      "Model: \"sequential_1\"\n",
      "_________________________________________________________________\n",
      " Layer (type)                Output Shape              Param #   \n",
      "=================================================================\n",
      " conv2d_4 (Conv2D)           (None, 62, 62, 64)        640       \n",
      "                                                                 \n",
      " max_pooling2d_4 (MaxPoolin  (None, 31, 31, 64)        0         \n",
      " g2D)                                                            \n",
      "                                                                 \n",
      " batch_normalization_4 (Bat  (None, 31, 31, 64)        256       \n",
      " chNormalization)                                                \n",
      "                                                                 \n",
      " conv2d_5 (Conv2D)           (None, 29, 29, 128)       73856     \n",
      "                                                                 \n",
      " max_pooling2d_5 (MaxPoolin  (None, 14, 14, 128)       0         \n",
      " g2D)                                                            \n",
      "                                                                 \n",
      " batch_normalization_5 (Bat  (None, 14, 14, 128)       512       \n",
      " chNormalization)                                                \n",
      "                                                                 \n",
      " conv2d_6 (Conv2D)           (None, 12, 12, 128)       147584    \n",
      "                                                                 \n",
      " max_pooling2d_6 (MaxPoolin  (None, 6, 6, 128)         0         \n",
      " g2D)                                                            \n",
      "                                                                 \n",
      " batch_normalization_6 (Bat  (None, 6, 6, 128)         512       \n",
      " chNormalization)                                                \n",
      "                                                                 \n",
      " conv2d_7 (Conv2D)           (None, 4, 4, 64)          73792     \n",
      "                                                                 \n",
      " max_pooling2d_7 (MaxPoolin  (None, 2, 2, 64)          0         \n",
      " g2D)                                                            \n",
      "                                                                 \n",
      " batch_normalization_7 (Bat  (None, 2, 2, 64)          256       \n",
      " chNormalization)                                                \n",
      "                                                                 \n",
      " flatten_1 (Flatten)         (None, 256)               0         \n",
      "                                                                 \n",
      " dense_2 (Dense)             (None, 40)                10280     \n",
      "                                                                 \n",
      " dropout_1 (Dropout)         (None, 40)                0         \n",
      "                                                                 \n",
      " dense_3 (Dense)             (None, 4)                 164       \n",
      "                                                                 \n",
      "=================================================================\n",
      "Total params: 307852 (1.17 MB)\n",
      "Trainable params: 307084 (1.17 MB)\n",
      "Non-trainable params: 768 (3.00 KB)\n",
      "_________________________________________________________________\n"
     ]
    }
   ],
   "source": [
    "model.summary()"
   ]
  },
  {
   "cell_type": "markdown",
   "metadata": {},
   "source": [
    "## Training Model"
   ]
  },
  {
   "cell_type": "code",
   "execution_count": 61,
   "metadata": {},
   "outputs": [],
   "source": [
    "model.compile(optimizer=optimizer, loss='binary_crossentropy', metrics=[tf.keras.metrics.BinaryAccuracy()])"
   ]
  },
  {
   "cell_type": "code",
   "execution_count": 62,
   "metadata": {},
   "outputs": [
    {
     "name": "stdout",
     "output_type": "stream",
     "text": [
      "Epoch 1/10\n",
      "1313/1313 [==============================] - 147s 112ms/step - loss: 0.1410 - binary_accuracy: 0.9464 - val_loss: 0.0842 - val_binary_accuracy: 0.9603\n",
      "Epoch 2/10\n",
      "1313/1313 [==============================] - 161s 123ms/step - loss: 0.0934 - binary_accuracy: 0.9583 - val_loss: 0.0757 - val_binary_accuracy: 0.9649\n",
      "Epoch 3/10\n",
      "1313/1313 [==============================] - 136s 103ms/step - loss: 0.0786 - binary_accuracy: 0.9648 - val_loss: 0.0649 - val_binary_accuracy: 0.9702\n",
      "Epoch 4/10\n",
      "1313/1313 [==============================] - 129s 99ms/step - loss: 0.0668 - binary_accuracy: 0.9704 - val_loss: 0.0578 - val_binary_accuracy: 0.9754\n",
      "Epoch 5/10\n",
      "1313/1313 [==============================] - 124s 95ms/step - loss: 0.0544 - binary_accuracy: 0.9769 - val_loss: 0.0485 - val_binary_accuracy: 0.9778\n",
      "Epoch 6/10\n",
      "1313/1313 [==============================] - 128s 97ms/step - loss: 0.0456 - binary_accuracy: 0.9815 - val_loss: 0.0365 - val_binary_accuracy: 0.9861\n",
      "Epoch 7/10\n",
      "1313/1313 [==============================] - 127s 96ms/step - loss: 0.0358 - binary_accuracy: 0.9856 - val_loss: 0.0458 - val_binary_accuracy: 0.9804\n",
      "Epoch 8/10\n",
      "1313/1313 [==============================] - 127s 97ms/step - loss: 0.0301 - binary_accuracy: 0.9885 - val_loss: 0.0294 - val_binary_accuracy: 0.9881\n",
      "Epoch 9/10\n",
      "1313/1313 [==============================] - 128s 98ms/step - loss: 0.0255 - binary_accuracy: 0.9904 - val_loss: 0.0290 - val_binary_accuracy: 0.9903\n",
      "Epoch 10/10\n",
      "1313/1313 [==============================] - 127s 97ms/step - loss: 0.0219 - binary_accuracy: 0.9922 - val_loss: 0.0236 - val_binary_accuracy: 0.9921\n"
     ]
    }
   ],
   "source": [
    "history = model.fit(X_train, y_train, epochs=10, validation_data=(X_val, y_val))"
   ]
  },
  {
   "cell_type": "markdown",
   "metadata": {},
   "source": [
    "## Testing Model"
   ]
  },
  {
   "cell_type": "code",
   "execution_count": 63,
   "metadata": {},
   "outputs": [
    {
     "name": "stdout",
     "output_type": "stream",
     "text": [
      "165/165 [==============================] - 4s 27ms/step - loss: 0.0223 - binary_accuracy: 0.9919\n"
     ]
    }
   ],
   "source": [
    "test_loss = model.evaluate(X_test, y_test)"
   ]
  },
  {
   "cell_type": "code",
   "execution_count": 64,
   "metadata": {},
   "outputs": [
    {
     "data": {
      "image/png": "[encoded data removed]",
      "text/plain": [
       "<Figure size 640x480 with 1 Axes>"
      ]
     },
     "metadata": {},
     "output_type": "display_data"
    }
   ],
   "source": [
    "train_loss = history.history['loss']\n",
    "val_loss = history.history['val_loss']\n",
    "\n",
    "epochs = range(1, len(train_loss) + 1)\n",
    "plt.plot(epochs, train_loss, 'bo', label='Training loss')\n",
    "plt.plot(epochs, val_loss, 'r', label='Validation loss')\n",
    "plt.title('Training and Validation Loss')\n",
    "plt.xlabel('Epochs')\n",
    "plt.ylabel('Loss')\n",
    "plt.legend()\n",
    "plt.show()"
   ]
  },
  {
   "cell_type": "code",
   "execution_count": 71,
   "metadata": {},
   "outputs": [
    {
     "data": {
      "image/png": "[encoded data removed]",
      "text/plain": [
       "<Figure size 640x480 with 1 Axes>"
      ]
     },
     "metadata": {},
     "output_type": "display_data"
    }
   ],
   "source": [
    "image = X_test[10]\n",
    "plt.imshow(image)\n",
    "plt.axis('off')\n",
    "plt.show()"
   ]
  },
  {
   "cell_type": "code",
   "execution_count": 72,
   "metadata": {},
   "outputs": [
    {
     "name": "stdout",
     "output_type": "stream",
     "text": [
      "1/1 [==============================] - 0s 19ms/step\n",
      "[[8.1824791e-03 1.0563794e-08 1.0000000e+00 1.1392977e-17]]\n"
     ]
    }
   ],
   "source": [
    "test_image = image.reshape(1, 64, 64, 1)\n",
    "predictions = model.predict(test_image)\n",
    "print(predictions)"
   ]
  },
  {
   "cell_type": "markdown",
   "metadata": {},
   "source": [
    "## Prediction Distribution"
   ]
  },
  {
   "cell_type": "code",
   "execution_count": 67,
   "metadata": {},
   "outputs": [
    {
     "name": "stdout",
     "output_type": "stream",
     "text": [
      "1/1 [==============================] - 0s 13ms/step\n",
      "1/1 [==============================] - 0s 11ms/step\n",
      "1/1 [==============================] - 0s 12ms/step\n",
      "1/1 [==============================] - 0s 13ms/step\n",
      "1/1 [==============================] - 0s 12ms/step\n",
      "1/1 [==============================] - 0s 12ms/step\n",
      "1/1 [==============================] - 0s 11ms/step\n",
      "1/1 [==============================] - 0s 12ms/step\n",
      "1/1 [==============================] - 0s 11ms/step\n",
      "1/1 [==============================] - 0s 12ms/step\n",
      "1/1 [==============================] - 0s 11ms/step\n",
      "1/1 [==============================] - 0s 11ms/step\n",
      "1/1 [==============================] - 0s 11ms/step\n",
      "1/1 [==============================] - 0s 10ms/step\n",
      "1/1 [==============================] - 0s 11ms/step\n",
      "1/1 [==============================] - 0s 11ms/step\n",
      "1/1 [==============================] - 0s 11ms/step\n",
      "1/1 [==============================] - 0s 11ms/step\n",
      "1/1 [==============================] - 0s 11ms/step\n",
      "1/1 [==============================] - 0s 11ms/step\n",
      "1/1 [==============================] - 0s 12ms/step\n",
      "1/1 [==============================] - 0s 11ms/step\n",
      "1/1 [==============================] - 0s 11ms/step\n",
      "1/1 [==============================] - 0s 11ms/step\n",
      "1/1 [==============================] - 0s 11ms/step\n",
      "1/1 [==============================] - 0s 11ms/step\n",
      "1/1 [==============================] - 0s 11ms/step\n",
      "1/1 [==============================] - 0s 11ms/step\n",
      "1/1 [==============================] - 0s 11ms/step\n",
      "1/1 [==============================] - 0s 11ms/step\n",
      "1/1 [==============================] - 0s 11ms/step\n",
      "1/1 [==============================] - 0s 10ms/step\n",
      "1/1 [==============================] - 0s 12ms/step\n",
      "1/1 [==============================] - 0s 11ms/step\n",
      "1/1 [==============================] - 0s 11ms/step\n",
      "1/1 [==============================] - 0s 10ms/step\n",
      "1/1 [==============================] - 0s 11ms/step\n",
      "1/1 [==============================] - 0s 11ms/step\n",
      "1/1 [==============================] - 0s 11ms/step\n",
      "1/1 [==============================] - 0s 11ms/step\n",
      "1/1 [==============================] - 0s 11ms/step\n",
      "1/1 [==============================] - 0s 12ms/step\n",
      "1/1 [==============================] - 0s 10ms/step\n",
      "1/1 [==============================] - 0s 12ms/step\n",
      "1/1 [==============================] - 0s 11ms/step\n",
      "1/1 [==============================] - 0s 10ms/step\n",
      "1/1 [==============================] - 0s 11ms/step\n",
      "1/1 [==============================] - 0s 11ms/step\n",
      "1/1 [==============================] - 0s 11ms/step\n",
      "1/1 [==============================] - 0s 11ms/step\n",
      "1/1 [==============================] - 0s 11ms/step\n",
      "1/1 [==============================] - 0s 11ms/step\n",
      "1/1 [==============================] - 0s 10ms/step\n",
      "1/1 [==============================] - 0s 12ms/step\n",
      "1/1 [==============================] - 0s 10ms/step\n",
      "1/1 [==============================] - 0s 11ms/step\n",
      "1/1 [==============================] - 0s 12ms/step\n",
      "1/1 [==============================] - 0s 11ms/step\n",
      "1/1 [==============================] - 0s 10ms/step\n",
      "1/1 [==============================] - 0s 11ms/step\n",
      "1/1 [==============================] - 0s 10ms/step\n",
      "1/1 [==============================] - 0s 11ms/step\n",
      "1/1 [==============================] - 0s 12ms/step\n",
      "1/1 [==============================] - 0s 11ms/step\n",
      "1/1 [==============================] - 0s 12ms/step\n",
      "1/1 [==============================] - 0s 10ms/step\n",
      "1/1 [==============================] - 0s 11ms/step\n",
      "1/1 [==============================] - 0s 11ms/step\n",
      "1/1 [==============================] - 0s 12ms/step\n",
      "1/1 [==============================] - 0s 11ms/step\n",
      "1/1 [==============================] - 0s 11ms/step\n",
      "1/1 [==============================] - 0s 11ms/step\n",
      "1/1 [==============================] - 0s 10ms/step\n",
      "1/1 [==============================] - 0s 12ms/step\n",
      "1/1 [==============================] - 0s 11ms/step\n",
      "1/1 [==============================] - 0s 12ms/step\n",
      "1/1 [==============================] - 0s 10ms/step\n",
      "1/1 [==============================] - 0s 11ms/step\n",
      "1/1 [==============================] - 0s 11ms/step\n",
      "1/1 [==============================] - 0s 11ms/step\n",
      "1/1 [==============================] - 0s 11ms/step\n",
      "1/1 [==============================] - 0s 12ms/step\n",
      "1/1 [==============================] - 0s 11ms/step\n",
      "1/1 [==============================] - 0s 11ms/step\n",
      "1/1 [==============================] - 0s 11ms/step\n",
      "1/1 [==============================] - 0s 11ms/step\n",
      "1/1 [==============================] - 0s 19ms/step\n",
      "1/1 [==============================] - 0s 13ms/step\n",
      "1/1 [==============================] - 0s 10ms/step\n",
      "1/1 [==============================] - 0s 11ms/step\n",
      "1/1 [==============================] - 0s 10ms/step\n",
      "1/1 [==============================] - 0s 11ms/step\n",
      "1/1 [==============================] - 0s 11ms/step\n",
      "1/1 [==============================] - 0s 11ms/step\n",
      "1/1 [==============================] - 0s 11ms/step\n",
      "1/1 [==============================] - 0s 11ms/step\n",
      "1/1 [==============================] - 0s 11ms/step\n",
      "1/1 [==============================] - 0s 11ms/step\n",
      "1/1 [==============================] - 0s 11ms/step\n",
      "1/1 [==============================] - 0s 11ms/step\n",
      "1/1 [==============================] - 0s 11ms/step\n",
      "1/1 [==============================] - 0s 11ms/step\n",
      "1/1 [==============================] - 0s 10ms/step\n",
      "1/1 [==============================] - 0s 11ms/step\n",
      "1/1 [==============================] - 0s 11ms/step\n",
      "1/1 [==============================] - 0s 11ms/step\n",
      "1/1 [==============================] - 0s 11ms/step\n",
      "1/1 [==============================] - 0s 11ms/step\n",
      "1/1 [==============================] - 0s 10ms/step\n",
      "1/1 [==============================] - 0s 11ms/step\n",
      "1/1 [==============================] - 0s 11ms/step\n",
      "1/1 [==============================] - 0s 11ms/step\n",
      "1/1 [==============================] - 0s 11ms/step\n",
      "1/1 [==============================] - 0s 11ms/step\n",
      "1/1 [==============================] - 0s 11ms/step\n",
      "1/1 [==============================] - 0s 11ms/step\n",
      "1/1 [==============================] - 0s 11ms/step\n",
      "1/1 [==============================] - 0s 10ms/step\n",
      "1/1 [==============================] - 0s 10ms/step\n",
      "1/1 [==============================] - 0s 11ms/step\n",
      "1/1 [==============================] - 0s 11ms/step\n",
      "1/1 [==============================] - 0s 10ms/step\n",
      "1/1 [==============================] - 0s 12ms/step\n",
      "1/1 [==============================] - 0s 11ms/step\n",
      "1/1 [==============================] - 0s 11ms/step\n",
      "1/1 [==============================] - 0s 11ms/step\n",
      "1/1 [==============================] - 0s 10ms/step\n",
      "1/1 [==============================] - 0s 11ms/step\n",
      "1/1 [==============================] - 0s 11ms/step\n",
      "1/1 [==============================] - 0s 10ms/step\n",
      "1/1 [==============================] - 0s 11ms/step\n",
      "1/1 [==============================] - 0s 11ms/step\n",
      "1/1 [==============================] - 0s 11ms/step\n",
      "1/1 [==============================] - 0s 11ms/step\n",
      "1/1 [==============================] - 0s 10ms/step\n",
      "1/1 [==============================] - 0s 11ms/step\n",
      "1/1 [==============================] - 0s 10ms/step\n",
      "1/1 [==============================] - 0s 11ms/step\n",
      "1/1 [==============================] - 0s 11ms/step\n",
      "1/1 [==============================] - 0s 12ms/step\n",
      "1/1 [==============================] - 0s 11ms/step\n",
      "1/1 [==============================] - 0s 11ms/step\n",
      "1/1 [==============================] - 0s 12ms/step\n",
      "1/1 [==============================] - 0s 11ms/step\n",
      "1/1 [==============================] - 0s 11ms/step\n",
      "1/1 [==============================] - 0s 11ms/step\n",
      "1/1 [==============================] - 0s 11ms/step\n",
      "1/1 [==============================] - 0s 11ms/step\n",
      "1/1 [==============================] - 0s 12ms/step\n",
      "1/1 [==============================] - 0s 11ms/step\n",
      "1/1 [==============================] - 0s 11ms/step\n",
      "1/1 [==============================] - 0s 12ms/step\n",
      "1/1 [==============================] - 0s 11ms/step\n",
      "1/1 [==============================] - 0s 11ms/step\n",
      "1/1 [==============================] - 0s 11ms/step\n",
      "1/1 [==============================] - 0s 11ms/step\n",
      "1/1 [==============================] - 0s 11ms/step\n",
      "1/1 [==============================] - 0s 11ms/step\n",
      "1/1 [==============================] - 0s 11ms/step\n",
      "1/1 [==============================] - 0s 11ms/step\n",
      "1/1 [==============================] - 0s 11ms/step\n",
      "1/1 [==============================] - 0s 11ms/step\n",
      "1/1 [==============================] - 0s 12ms/step\n",
      "1/1 [==============================] - 0s 11ms/step\n",
      "1/1 [==============================] - 0s 11ms/step\n",
      "1/1 [==============================] - 0s 11ms/step\n",
      "1/1 [==============================] - 0s 11ms/step\n",
      "1/1 [==============================] - 0s 11ms/step\n",
      "1/1 [==============================] - 0s 11ms/step\n",
      "1/1 [==============================] - 0s 12ms/step\n",
      "1/1 [==============================] - 0s 12ms/step\n",
      "1/1 [==============================] - 0s 10ms/step\n",
      "1/1 [==============================] - 0s 11ms/step\n",
      "1/1 [==============================] - 0s 11ms/step\n",
      "1/1 [==============================] - 0s 13ms/step\n",
      "1/1 [==============================] - 0s 12ms/step\n",
      "1/1 [==============================] - 0s 11ms/step\n",
      "1/1 [==============================] - 0s 10ms/step\n",
      "1/1 [==============================] - 0s 11ms/step\n",
      "1/1 [==============================] - 0s 10ms/step\n",
      "1/1 [==============================] - 0s 11ms/step\n",
      "1/1 [==============================] - 0s 24ms/step\n",
      "1/1 [==============================] - 0s 11ms/step\n",
      "1/1 [==============================] - 0s 11ms/step\n",
      "1/1 [==============================] - 0s 10ms/step\n",
      "1/1 [==============================] - 0s 11ms/step\n",
      "1/1 [==============================] - 0s 11ms/step\n",
      "1/1 [==============================] - 0s 11ms/step\n",
      "1/1 [==============================] - 0s 11ms/step\n",
      "1/1 [==============================] - 0s 10ms/step\n",
      "1/1 [==============================] - 0s 10ms/step\n",
      "1/1 [==============================] - 0s 10ms/step\n",
      "1/1 [==============================] - 0s 11ms/step\n",
      "1/1 [==============================] - 0s 10ms/step\n",
      "1/1 [==============================] - 0s 12ms/step\n",
      "1/1 [==============================] - 0s 11ms/step\n",
      "1/1 [==============================] - 0s 12ms/step\n",
      "1/1 [==============================] - 0s 11ms/step\n",
      "1/1 [==============================] - 0s 11ms/step\n",
      "1/1 [==============================] - 0s 11ms/step\n",
      "1/1 [==============================] - 0s 11ms/step\n",
      "1/1 [==============================] - 0s 11ms/step\n",
      "1/1 [==============================] - 0s 12ms/step\n",
      "1/1 [==============================] - 0s 12ms/step\n",
      "1/1 [==============================] - 0s 10ms/step\n",
      "1/1 [==============================] - 0s 11ms/step\n",
      "1/1 [==============================] - 0s 12ms/step\n",
      "1/1 [==============================] - 0s 11ms/step\n",
      "1/1 [==============================] - 0s 11ms/step\n",
      "1/1 [==============================] - 0s 11ms/step\n",
      "1/1 [==============================] - 0s 11ms/step\n",
      "1/1 [==============================] - 0s 11ms/step\n",
      "1/1 [==============================] - 0s 11ms/step\n",
      "1/1 [==============================] - 0s 10ms/step\n",
      "1/1 [==============================] - 0s 11ms/step\n",
      "1/1 [==============================] - 0s 11ms/step\n",
      "1/1 [==============================] - 0s 10ms/step\n",
      "1/1 [==============================] - 0s 11ms/step\n",
      "1/1 [==============================] - 0s 11ms/step\n",
      "1/1 [==============================] - 0s 10ms/step\n",
      "1/1 [==============================] - 0s 11ms/step\n",
      "1/1 [==============================] - 0s 11ms/step\n",
      "1/1 [==============================] - 0s 11ms/step\n",
      "1/1 [==============================] - 0s 11ms/step\n",
      "1/1 [==============================] - 0s 11ms/step\n",
      "1/1 [==============================] - 0s 11ms/step\n",
      "1/1 [==============================] - 0s 11ms/step\n",
      "1/1 [==============================] - 0s 11ms/step\n",
      "1/1 [==============================] - 0s 10ms/step\n",
      "1/1 [==============================] - 0s 11ms/step\n",
      "1/1 [==============================] - 0s 11ms/step\n",
      "1/1 [==============================] - 0s 11ms/step\n",
      "1/1 [==============================] - 0s 11ms/step\n",
      "1/1 [==============================] - 0s 11ms/step\n",
      "1/1 [==============================] - 0s 10ms/step\n",
      "1/1 [==============================] - 0s 11ms/step\n",
      "1/1 [==============================] - 0s 11ms/step\n",
      "1/1 [==============================] - 0s 11ms/step\n",
      "1/1 [==============================] - 0s 11ms/step\n",
      "1/1 [==============================] - 0s 11ms/step\n",
      "1/1 [==============================] - 0s 11ms/step\n",
      "1/1 [==============================] - 0s 11ms/step\n",
      "1/1 [==============================] - 0s 10ms/step\n",
      "1/1 [==============================] - 0s 11ms/step\n",
      "1/1 [==============================] - 0s 11ms/step\n",
      "1/1 [==============================] - 0s 11ms/step\n",
      "1/1 [==============================] - 0s 11ms/step\n",
      "1/1 [==============================] - 0s 11ms/step\n",
      "1/1 [==============================] - 0s 10ms/step\n",
      "1/1 [==============================] - 0s 11ms/step\n"
     ]
    }
   ],
   "source": [
    "predictions_list = []\n",
    "for num in range(250):\n",
    "    image = X_test[num]\n",
    "    test_image = image.reshape(1, 64, 64, 1)\n",
    "    prediction = model.predict(test_image)\n",
    "    predictions_list.append(prediction)"
   ]
  },
  {
   "cell_type": "code",
   "execution_count": 68,
   "metadata": {},
   "outputs": [
    {
     "data": {
      "text/plain": [
       "[array([[1.9678801e-06, 1.3389283e-02, 1.0000000e+00, 1.1084975e-13]],\n",
       "       dtype=float32),\n",
       " array([[9.8528606e-01, 2.5040630e-09, 1.0000000e+00, 4.0955347e-14]],\n",
       "       dtype=float32),\n",
       " array([[9.9796987e-01, 4.0169689e-07, 1.0000000e+00, 1.3781102e-11]],\n",
       "       dtype=float32),\n",
       " array([[8.7276334e-05, 5.1405532e-06, 1.0000000e+00, 1.1835271e-15]],\n",
       "       dtype=float32),\n",
       " array([[2.1838041e-12, 5.0223076e-07, 1.0000000e+00, 9.1390661e-31]],\n",
       "       dtype=float32),\n",
       " array([[1.1029099e-11, 9.9936908e-01, 1.0000000e+00, 6.1997449e-16]],\n",
       "       dtype=float32),\n",
       " array([[1.1385273e-06, 1.0662061e-06, 1.0000000e+00, 2.8097022e-20]],\n",
       "       dtype=float32),\n",
       " array([[8.0963135e-01, 8.0765833e-10, 1.0000000e+00, 1.1539120e-15]],\n",
       "       dtype=float32),\n",
       " array([[2.3877795e-03, 6.6105148e-09, 1.0000000e+00, 1.9473027e-18]],\n",
       "       dtype=float32),\n",
       " array([[6.091116e-04, 5.018736e-07, 1.000000e+00, 3.117273e-16]],\n",
       "       dtype=float32),\n",
       " array([[8.1824791e-03, 1.0563794e-08, 1.0000000e+00, 1.1392977e-17]],\n",
       "       dtype=float32),\n",
       " array([[8.7714297e-06, 7.2867073e-11, 1.0000000e+00, 3.8391072e-26]],\n",
       "       dtype=float32),\n",
       " array([[5.9527356e-09, 2.3343875e-05, 1.0000000e+00, 1.7134840e-22]],\n",
       "       dtype=float32),\n",
       " array([[3.3472388e-11, 2.7783869e-06, 1.0000000e+00, 6.2107851e-28]],\n",
       "       dtype=float32),\n",
       " array([[9.9768013e-01, 7.0148684e-07, 1.0000000e+00, 1.7807457e-11]],\n",
       "       dtype=float32),\n",
       " array([[1.2373381e-09, 9.9910265e-01, 1.0000000e+00, 4.5463611e-13]],\n",
       "       dtype=float32),\n",
       " array([[4.8737885e-08, 2.7682515e-10, 1.0000000e+00, 5.2732943e-29]],\n",
       "       dtype=float32),\n",
       " array([[9.9905741e-01, 5.2175088e-14, 1.0000000e+00, 2.9746725e-22]],\n",
       "       dtype=float32),\n",
       " array([[6.8584293e-01, 1.9143111e-07, 1.0000000e+00, 3.3491227e-11]],\n",
       "       dtype=float32),\n",
       " array([[6.5026917e-13, 1.3990884e-08, 1.0000000e+00, 4.1508891e-34]],\n",
       "       dtype=float32),\n",
       " array([[2.1250040e-07, 1.1379638e-04, 1.0000000e+00, 5.3179054e-19]],\n",
       "       dtype=float32),\n",
       " array([[1.9982375e-07, 3.7618510e-02, 1.0000000e+00, 1.8618153e-14]],\n",
       "       dtype=float32),\n",
       " array([[9.9390052e-11, 2.9100358e-04, 1.0000000e+00, 9.8794234e-24]],\n",
       "       dtype=float32),\n",
       " array([[5.9213424e-01, 4.4833678e-07, 1.0000000e+00, 4.9853642e-11]],\n",
       "       dtype=float32),\n",
       " array([[8.2467373e-11, 1.7727245e-07, 1.0000000e+00, 8.2250937e-29]],\n",
       "       dtype=float32),\n",
       " array([[2.3429472e-08, 8.1188176e-08, 1.0000000e+00, 1.3511080e-25]],\n",
       "       dtype=float32),\n",
       " array([[3.4026666e-12, 9.9985534e-01, 1.0000000e+00, 4.1872968e-17]],\n",
       "       dtype=float32),\n",
       " array([[9.8992614e-10, 4.4497213e-08, 1.0000000e+00, 7.1700359e-28]],\n",
       "       dtype=float32),\n",
       " array([[9.9132405e-05, 5.0092864e-12, 1.0000000e+00, 2.4370487e-25]],\n",
       "       dtype=float32),\n",
       " array([[1.7419269e-07, 1.5186320e-01, 1.0000000e+00, 1.6316108e-13]],\n",
       "       dtype=float32),\n",
       " array([[2.2717591e-08, 7.0278325e-08, 1.0000000e+00, 3.2327675e-25]],\n",
       "       dtype=float32),\n",
       " array([[7.1344632e-01, 2.9165183e-06, 1.0000000e+00, 4.6989439e-09]],\n",
       "       dtype=float32),\n",
       " array([[9.4225609e-01, 1.6811465e-11, 1.0000000e+00, 4.6559986e-19]],\n",
       "       dtype=float32),\n",
       " array([[6.5621528e-08, 2.7180489e-11, 1.0000000e+00, 4.2641097e-30]],\n",
       "       dtype=float32),\n",
       " array([[2.0324628e-06, 2.6440841e-01, 1.0000000e+00, 1.7643350e-11]],\n",
       "       dtype=float32),\n",
       " array([[1.4365272e-11, 1.0232358e-08, 1.0000000e+00, 6.7144214e-32]],\n",
       "       dtype=float32),\n",
       " array([[6.9388982e-08, 3.5199631e-07, 1.0000000e+00, 3.2969088e-23]],\n",
       "       dtype=float32),\n",
       " array([[1.2060523e-09, 1.1064270e-06, 1.0000000e+00, 1.3629209e-25]],\n",
       "       dtype=float32),\n",
       " array([[1.1667429e-09, 5.2308724e-07, 1.0000000e+00, 4.5360839e-26]],\n",
       "       dtype=float32),\n",
       " array([[2.8480245e-05, 5.2905254e-09, 1.0000000e+00, 2.1066014e-21]],\n",
       "       dtype=float32),\n",
       " array([[2.6929053e-13, 7.3547238e-07, 1.0000000e+00, 4.8828199e-32]],\n",
       "       dtype=float32),\n",
       " array([[3.9807588e-07, 1.3457782e-11, 1.0000000e+00, 4.6665012e-29]],\n",
       "       dtype=float32),\n",
       " array([[5.4672666e-10, 1.0017737e-11, 1.0000000e+00, 5.8251788e-34]],\n",
       "       dtype=float32),\n",
       " array([[1.6841803e-10, 1.0645876e-08, 1.0000000e+00, 6.3358097e-31]],\n",
       "       dtype=float32),\n",
       " array([[9.791114e-01, 5.199898e-09, 1.000000e+00, 5.633010e-14]],\n",
       "       dtype=float32),\n",
       " array([[9.7055036e-16, 9.9989569e-01, 1.0000000e+00, 5.5908434e-23]],\n",
       "       dtype=float32),\n",
       " array([[3.3650063e-06, 4.2965021e-05, 1.0000000e+00, 6.9461102e-17]],\n",
       "       dtype=float32),\n",
       " array([[1.0328221e-06, 2.7828473e-06, 1.0000000e+00, 6.9141643e-20]],\n",
       "       dtype=float32),\n",
       " array([[8.0555805e-07, 6.1871792e-11, 1.0000000e+00, 8.4933482e-28]],\n",
       "       dtype=float32),\n",
       " array([[4.1410212e-11, 1.3537436e-07, 1.0000000e+00, 1.4594225e-29]],\n",
       "       dtype=float32),\n",
       " array([[3.2576363e-04, 4.4225860e-08, 1.0000000e+00, 2.7878398e-18]],\n",
       "       dtype=float32),\n",
       " array([[6.1538372e-11, 4.0268055e-14, 1.0000000e+00, 0.0000000e+00]],\n",
       "       dtype=float32),\n",
       " array([[4.0338668e-06, 9.7918791e-01, 1.0000000e+00, 1.6703451e-09]],\n",
       "       dtype=float32),\n",
       " array([[6.68193081e-07, 1.16152265e-07, 1.00000000e+00, 3.26990620e-22]],\n",
       "       dtype=float32),\n",
       " array([[3.4845864e-09, 1.7628194e-05, 1.0000000e+00, 9.3446671e-23]],\n",
       "       dtype=float32),\n",
       " array([[1.1231151e-11, 1.4135539e-05, 1.0000000e+00, 4.1778301e-27]],\n",
       "       dtype=float32),\n",
       " array([[2.1176577e-08, 3.7287118e-06, 1.0000000e+00, 2.8174807e-22]],\n",
       "       dtype=float32),\n",
       " array([[5.27257182e-10, 1.37421641e-09, 1.00000000e+00, 1.41644775e-30]],\n",
       "       dtype=float32),\n",
       " array([[8.2046192e-13, 4.1945608e-05, 1.0000000e+00, 3.5641213e-27]],\n",
       "       dtype=float32),\n",
       " array([[9.8001482e-09, 1.9346888e-04, 1.0000000e+00, 2.7553893e-20]],\n",
       "       dtype=float32),\n",
       " array([[2.7794979e-07, 3.1079713e-07, 1.0000000e+00, 1.6906166e-22]],\n",
       "       dtype=float32),\n",
       " array([[9.5576174e-17, 1.8375669e-11, 1.0000000e+00, 0.0000000e+00]],\n",
       "       dtype=float32),\n",
       " array([[7.9797599e-11, 1.3474322e-11, 1.0000000e+00, 4.0211062e-35]],\n",
       "       dtype=float32),\n",
       " array([[1.2811384e-03, 5.7270620e-07, 1.0000000e+00, 6.0697968e-16]],\n",
       "       dtype=float32),\n",
       " array([[1.1365556e-11, 9.9999046e-01, 1.0000000e+00, 9.7340959e-15]],\n",
       "       dtype=float32),\n",
       " array([[1.2823641e-06, 1.5158290e-07, 1.0000000e+00, 2.8310989e-22]],\n",
       "       dtype=float32),\n",
       " array([[2.2995832e-06, 6.1714586e-06, 1.0000000e+00, 2.5195728e-19]],\n",
       "       dtype=float32),\n",
       " array([[9.8253620e-01, 2.3983338e-09, 1.0000000e+00, 1.5939112e-14]],\n",
       "       dtype=float32),\n",
       " array([[2.2578533e-06, 1.5414643e-04, 1.0000000e+00, 1.5931010e-16]],\n",
       "       dtype=float32),\n",
       " array([[1.0688342e-05, 8.1318403e-11, 1.0000000e+00, 7.1641106e-26]],\n",
       "       dtype=float32),\n",
       " array([[1.5759705e-02, 1.1303779e-07, 1.0000000e+00, 6.2843009e-15]],\n",
       "       dtype=float32),\n",
       " array([[3.2326224e-01, 5.0525024e-04, 9.9999917e-01, 1.8465646e-06]],\n",
       "       dtype=float32),\n",
       " array([[8.9545193e-10, 2.7057785e-08, 1.0000000e+00, 5.4494554e-28]],\n",
       "       dtype=float32),\n",
       " array([[9.9716026e-01, 9.6499393e-13, 1.0000000e+00, 8.3067041e-20]],\n",
       "       dtype=float32),\n",
       " array([[9.9658853e-01, 1.1204335e-12, 1.0000000e+00, 6.2898491e-20]],\n",
       "       dtype=float32),\n",
       " array([[2.0832254e-03, 2.6053845e-08, 1.0000000e+00, 2.7347331e-17]],\n",
       "       dtype=float32),\n",
       " array([[3.423275e-09, 9.762932e-01, 1.000000e+00, 7.142110e-13]],\n",
       "       dtype=float32),\n",
       " array([[9.9974960e-01, 1.6686517e-12, 1.0000000e+00, 3.3044322e-19]],\n",
       "       dtype=float32),\n",
       " array([[1.3179868e-05, 7.6521348e-05, 1.0000000e+00, 6.7223474e-15]],\n",
       "       dtype=float32),\n",
       " array([[4.2347910e-06, 7.5983372e-11, 1.0000000e+00, 1.2052254e-26]],\n",
       "       dtype=float32),\n",
       " array([[1.2240421e-02, 2.0165677e-07, 1.0000000e+00, 2.8806441e-15]],\n",
       "       dtype=float32),\n",
       " array([[2.9575458e-06, 8.8685560e-08, 1.0000000e+00, 7.4416437e-22]],\n",
       "       dtype=float32),\n",
       " array([[2.9198743e-08, 7.8894405e-11, 1.0000000e+00, 9.0145258e-30]],\n",
       "       dtype=float32),\n",
       " array([[3.5436691e-09, 1.5422324e-12, 1.0000000e+00, 2.8906995e-34]],\n",
       "       dtype=float32),\n",
       " array([[4.2352002e-10, 9.9068362e-01, 1.0000000e+00, 8.0208098e-14]],\n",
       "       dtype=float32),\n",
       " array([[1.4370472e-12, 3.3624738e-07, 1.0000000e+00, 8.0145929e-31]],\n",
       "       dtype=float32),\n",
       " array([[7.3757754e-08, 2.7939914e-12, 1.0000000e+00, 2.7304916e-31]],\n",
       "       dtype=float32),\n",
       " array([[1.2518817e-07, 1.5409398e-03, 1.0000000e+00, 1.6146801e-16]],\n",
       "       dtype=float32),\n",
       " array([[6.4078396e-09, 1.5214304e-02, 1.0000000e+00, 1.7942892e-17]],\n",
       "       dtype=float32),\n",
       " array([[5.3198193e-09, 1.9555710e-09, 1.0000000e+00, 3.7472082e-29]],\n",
       "       dtype=float32),\n",
       " array([[2.1813687e-06, 2.7071373e-11, 1.0000000e+00, 6.8219713e-27]],\n",
       "       dtype=float32),\n",
       " array([[3.4261556e-09, 2.1110364e-07, 1.0000000e+00, 1.8093760e-25]],\n",
       "       dtype=float32),\n",
       " array([[1.6325785e-10, 6.7052133e-06, 1.0000000e+00, 2.4232178e-25]],\n",
       "       dtype=float32),\n",
       " array([[5.6700326e-08, 1.4213955e-06, 1.0000000e+00, 2.4172940e-22]],\n",
       "       dtype=float32),\n",
       " array([[8.472591e-09, 3.187496e-10, 1.000000e+00, 6.856372e-30]],\n",
       "       dtype=float32),\n",
       " array([[1.5500969e-09, 2.0093385e-05, 1.0000000e+00, 2.4842363e-23]],\n",
       "       dtype=float32),\n",
       " array([[9.8174328e-01, 7.0482024e-06, 9.9999994e-01, 7.0649775e-09]],\n",
       "       dtype=float32),\n",
       " array([[1.4634806e-03, 3.9874113e-08, 1.0000000e+00, 8.0188659e-18]],\n",
       "       dtype=float32),\n",
       " array([[2.9280290e-11, 1.2867915e-06, 1.0000000e+00, 2.8778134e-28]],\n",
       "       dtype=float32),\n",
       " array([[6.695648e-13, 4.990191e-07, 1.000000e+00, 2.144136e-31]],\n",
       "       dtype=float32),\n",
       " array([[1.5565369e-14, 9.9999511e-01, 1.0000000e+00, 9.1489496e-21]],\n",
       "       dtype=float32),\n",
       " array([[9.9990046e-01, 7.2148369e-14, 1.0000000e+00, 2.8488552e-22]],\n",
       "       dtype=float32),\n",
       " array([[3.7294194e-06, 1.8509475e-06, 1.0000000e+00, 8.4853189e-20]],\n",
       "       dtype=float32),\n",
       " array([[9.35401022e-01, 1.00692336e-10, 1.00000000e+00, 2.97190271e-16]],\n",
       "       dtype=float32),\n",
       " array([[7.4590298e-09, 9.9993497e-01, 1.0000000e+00, 1.5165568e-12]],\n",
       "       dtype=float32),\n",
       " array([[1.7492965e-11, 6.1506489e-10, 1.0000000e+00, 1.4860823e-33]],\n",
       "       dtype=float32),\n",
       " array([[1.7410401e-03, 9.6620624e-08, 1.0000000e+00, 5.2710142e-17]],\n",
       "       dtype=float32),\n",
       " array([[3.7780886e-03, 2.4826873e-08, 1.0000000e+00, 1.7381629e-17]],\n",
       "       dtype=float32),\n",
       " array([[1.3426785e-05, 8.1153502e-08, 1.0000000e+00, 1.6287508e-20]],\n",
       "       dtype=float32),\n",
       " array([[1.9545899e-13, 3.1097923e-11, 1.0000000e+00, 0.0000000e+00]],\n",
       "       dtype=float32),\n",
       " array([[6.6164486e-02, 4.9166123e-05, 1.0000000e+00, 2.0497295e-09]],\n",
       "       dtype=float32),\n",
       " array([[5.7806290e-07, 7.3472935e-01, 1.0000000e+00, 8.2812882e-11]],\n",
       "       dtype=float32),\n",
       " array([[9.9694967e-01, 3.4188241e-07, 1.0000000e+00, 1.4094626e-11]],\n",
       "       dtype=float32),\n",
       " array([[8.3831136e-10, 1.0820394e-08, 1.0000000e+00, 2.6933559e-29]],\n",
       "       dtype=float32),\n",
       " array([[1.3274585e-07, 9.9115229e-01, 1.0000000e+00, 9.6879026e-11]],\n",
       "       dtype=float32),\n",
       " array([[6.4236772e-08, 7.2901298e-07, 1.0000000e+00, 1.1060257e-22]],\n",
       "       dtype=float32),\n",
       " array([[7.8342385e-12, 9.9997383e-01, 1.0000000e+00, 1.1778879e-15]],\n",
       "       dtype=float32),\n",
       " array([[2.738940e-10, 6.657305e-13, 1.000000e+00, 9.034013e-37]],\n",
       "       dtype=float32),\n",
       " array([[3.9368313e-12, 1.3910970e-07, 1.0000000e+00, 3.4006158e-31]],\n",
       "       dtype=float32),\n",
       " array([[9.917949e-01, 2.618844e-10, 1.000000e+00, 5.451880e-16]],\n",
       "       dtype=float32),\n",
       " array([[7.4991936e-11, 6.1046059e-08, 1.0000000e+00, 6.0950007e-29]],\n",
       "       dtype=float32),\n",
       " array([[6.5115391e-10, 1.3442631e-13, 1.0000000e+00, 8.1653496e-37]],\n",
       "       dtype=float32),\n",
       " array([[1.1662349e-06, 9.6092583e-07, 1.0000000e+00, 1.7490484e-20]],\n",
       "       dtype=float32),\n",
       " array([[6.9801635e-13, 5.1631578e-05, 1.0000000e+00, 6.6267521e-27]],\n",
       "       dtype=float32),\n",
       " array([[7.5874031e-01, 1.5167393e-08, 1.0000000e+00, 7.4487215e-13]],\n",
       "       dtype=float32),\n",
       " array([[1.0460480e-07, 1.9618108e-08, 1.0000000e+00, 5.3660424e-25]],\n",
       "       dtype=float32),\n",
       " array([[1.3586283e-01, 3.2964589e-10, 1.0000000e+00, 2.2237367e-18]],\n",
       "       dtype=float32),\n",
       " array([[1.0312103e-07, 1.1050372e-06, 1.0000000e+00, 1.7873440e-22]],\n",
       "       dtype=float32),\n",
       " array([[7.0892251e-01, 6.1296414e-05, 9.9999940e-01, 1.0609804e-06]],\n",
       "       dtype=float32),\n",
       " array([[1.8661754e-09, 5.2897891e-09, 1.0000000e+00, 7.4146696e-29]],\n",
       "       dtype=float32),\n",
       " array([[5.9397491e-09, 5.7246435e-10, 1.0000000e+00, 4.0361485e-29]],\n",
       "       dtype=float32),\n",
       " array([[5.523355e-09, 9.989673e-01, 1.000000e+00, 3.109484e-11]],\n",
       "       dtype=float32),\n",
       " array([[5.9701292e-06, 8.8284180e-09, 1.0000000e+00, 1.5422098e-22]],\n",
       "       dtype=float32),\n",
       " array([[9.2424727e-07, 6.8291706e-01, 1.0000000e+00, 1.3287714e-10]],\n",
       "       dtype=float32),\n",
       " array([[2.3155671e-08, 3.3911358e-04, 1.0000000e+00, 6.5932933e-19]],\n",
       "       dtype=float32),\n",
       " array([[3.6151188e-17, 9.9999785e-01, 1.0000000e+00, 1.2135869e-23]],\n",
       "       dtype=float32),\n",
       " array([[1.0630702e-07, 4.1400758e-10, 1.0000000e+00, 3.2918108e-28]],\n",
       "       dtype=float32),\n",
       " array([[4.2429726e-09, 1.8877654e-10, 1.0000000e+00, 2.0540282e-30]],\n",
       "       dtype=float32),\n",
       " array([[3.87111247e-01, 1.21488265e-05, 1.00000000e+00, 5.62667524e-10]],\n",
       "       dtype=float32),\n",
       " array([[2.9542253e-08, 3.8750856e-09, 1.0000000e+00, 5.6927993e-27]],\n",
       "       dtype=float32),\n",
       " array([[6.4153699e-10, 1.2417871e-10, 1.0000000e+00, 6.7110412e-32]],\n",
       "       dtype=float32),\n",
       " array([[3.6310360e-12, 6.1435479e-04, 1.0000000e+00, 4.1464113e-26]],\n",
       "       dtype=float32),\n",
       " array([[9.990150e-01, 3.117346e-11, 1.000000e+00, 2.841937e-17]],\n",
       "       dtype=float32),\n",
       " array([[6.7479515e-11, 9.8415601e-01, 1.0000000e+00, 6.0190902e-17]],\n",
       "       dtype=float32),\n",
       " array([[9.9263445e-08, 1.1500687e-06, 1.0000000e+00, 3.3944622e-22]],\n",
       "       dtype=float32),\n",
       " array([[1.1173936e-06, 2.3925677e-09, 1.0000000e+00, 2.7637525e-24]],\n",
       "       dtype=float32),\n",
       " array([[1.81478588e-09, 1.23949405e-02, 1.00000000e+00, 2.92032574e-19]],\n",
       "       dtype=float32),\n",
       " array([[2.4328142e-07, 4.4325887e-10, 1.0000000e+00, 2.1383492e-27]],\n",
       "       dtype=float32),\n",
       " array([[9.8325046e-08, 1.8819897e-05, 1.0000000e+00, 1.3238872e-20]],\n",
       "       dtype=float32),\n",
       " array([[4.8451941e-05, 3.6269015e-01, 1.0000000e+00, 2.8013114e-09]],\n",
       "       dtype=float32),\n",
       " array([[5.076323e-05, 2.468426e-07, 1.000000e+00, 5.328241e-19]],\n",
       "       dtype=float32),\n",
       " array([[6.8868094e-06, 1.8282451e-04, 1.0000000e+00, 2.7237831e-15]],\n",
       "       dtype=float32),\n",
       " array([[9.7478559e-09, 8.7005233e-08, 1.0000000e+00, 1.3115442e-24]],\n",
       "       dtype=float32),\n",
       " array([[1.7821407e-09, 9.3774334e-02, 1.0000000e+00, 7.1500824e-17]],\n",
       "       dtype=float32),\n",
       " array([[1.5424584e-07, 1.7798190e-04, 1.0000000e+00, 9.8376663e-19]],\n",
       "       dtype=float32),\n",
       " array([[2.7604814e-04, 2.1893200e-10, 1.0000000e+00, 1.2705486e-22]],\n",
       "       dtype=float32),\n",
       " array([[9.9969840e-01, 6.3859563e-11, 1.0000000e+00, 5.1482605e-18]],\n",
       "       dtype=float32),\n",
       " array([[1.4128614e-08, 7.0737249e-10, 1.0000000e+00, 5.2604760e-29]],\n",
       "       dtype=float32),\n",
       " array([[4.5259712e-05, 6.7653760e-05, 1.0000000e+00, 7.5181111e-15]],\n",
       "       dtype=float32),\n",
       " array([[5.0043781e-08, 9.9790782e-01, 1.0000000e+00, 1.1214803e-10]],\n",
       "       dtype=float32),\n",
       " array([[1.4171573e-02, 5.6585588e-07, 1.0000000e+00, 6.5920149e-14]],\n",
       "       dtype=float32),\n",
       " array([[3.9253733e-04, 2.7229110e-11, 1.0000000e+00, 1.1612110e-23]],\n",
       "       dtype=float32),\n",
       " array([[3.2347228e-10, 1.9844636e-11, 1.0000000e+00, 1.8772516e-33]],\n",
       "       dtype=float32),\n",
       " array([[3.9787085e-10, 5.2960314e-07, 1.0000000e+00, 7.5807022e-27]],\n",
       "       dtype=float32),\n",
       " array([[6.9792488e-12, 2.8355910e-02, 1.0000000e+00, 2.9158813e-21]],\n",
       "       dtype=float32),\n",
       " array([[9.9304116e-01, 7.2116318e-10, 1.0000000e+00, 1.7236449e-15]],\n",
       "       dtype=float32),\n",
       " array([[1.02928124e-10, 2.70430888e-07, 1.00000000e+00, 2.11437112e-28]],\n",
       "       dtype=float32),\n",
       " array([[3.2725920e-09, 7.0706546e-02, 1.0000000e+00, 6.0077354e-17]],\n",
       "       dtype=float32),\n",
       " array([[1.3403168e-07, 2.2985218e-06, 1.0000000e+00, 2.0459204e-21]],\n",
       "       dtype=float32),\n",
       " array([[7.7163035e-01, 4.4206832e-14, 1.0000000e+00, 2.8031689e-22]],\n",
       "       dtype=float32),\n",
       " array([[1.1980784e-06, 1.7596612e-03, 1.0000000e+00, 1.0679232e-15]],\n",
       "       dtype=float32),\n",
       " array([[8.4540541e-10, 5.9666314e-11, 1.0000000e+00, 1.7861352e-32]],\n",
       "       dtype=float32),\n",
       " array([[1.7290974e-08, 6.4035660e-08, 1.0000000e+00, 5.3155770e-25]],\n",
       "       dtype=float32),\n",
       " array([[1.9577089e-07, 2.0416494e-12, 1.0000000e+00, 9.5145152e-31]],\n",
       "       dtype=float32),\n",
       " array([[1.2113113e-08, 9.0180356e-11, 1.0000000e+00, 8.5864718e-31]],\n",
       "       dtype=float32),\n",
       " array([[6.5024874e-11, 9.9972051e-01, 1.0000000e+00, 6.2209954e-16]],\n",
       "       dtype=float32),\n",
       " array([[3.6817266e-07, 6.6947450e-07, 1.0000000e+00, 3.4059299e-21]],\n",
       "       dtype=float32),\n",
       " array([[4.3550793e-07, 8.0818616e-02, 1.0000000e+00, 1.2027578e-13]],\n",
       "       dtype=float32),\n",
       " array([[9.8091578e-01, 8.1791747e-11, 1.0000000e+00, 4.7362234e-16]],\n",
       "       dtype=float32),\n",
       " array([[1.5923147e-08, 5.4808766e-08, 1.0000000e+00, 7.7772509e-26]],\n",
       "       dtype=float32),\n",
       " array([[3.7535604e-14, 9.0030150e-11, 1.0000000e+00, 0.0000000e+00]],\n",
       "       dtype=float32),\n",
       " array([[1.9573182e-04, 6.7657623e-11, 1.0000000e+00, 1.9100489e-23]],\n",
       "       dtype=float32),\n",
       " array([[8.8952529e-06, 6.1310004e-08, 1.0000000e+00, 1.9469505e-21]],\n",
       "       dtype=float32),\n",
       " array([[2.4759286e-09, 2.1331394e-08, 1.0000000e+00, 8.1471237e-28]],\n",
       "       dtype=float32),\n",
       " array([[7.7027835e-06, 8.6157852e-01, 1.0000000e+00, 4.1990927e-10]],\n",
       "       dtype=float32),\n",
       " array([[3.7865848e-06, 3.9391940e-10, 1.0000000e+00, 1.1812258e-24]],\n",
       "       dtype=float32),\n",
       " array([[2.8498187e-06, 4.8902237e-08, 1.0000000e+00, 1.1493222e-21]],\n",
       "       dtype=float32),\n",
       " array([[4.5045322e-01, 1.3694438e-09, 1.0000000e+00, 1.3782887e-15]],\n",
       "       dtype=float32),\n",
       " array([[1.0907681e-04, 2.8796256e-09, 1.0000000e+00, 1.8340212e-21]],\n",
       "       dtype=float32),\n",
       " array([[5.0900389e-06, 6.8933353e-08, 1.0000000e+00, 5.4091093e-21]],\n",
       "       dtype=float32),\n",
       " array([[2.9176949e-06, 8.4782475e-01, 1.0000000e+00, 1.2016825e-09]],\n",
       "       dtype=float32),\n",
       " array([[3.6606562e-10, 1.6042119e-07, 1.0000000e+00, 1.4366881e-27]],\n",
       "       dtype=float32),\n",
       " array([[1.1380823e-08, 2.3442242e-04, 1.0000000e+00, 5.6148968e-20]],\n",
       "       dtype=float32),\n",
       " array([[9.4479322e-02, 1.7126294e-09, 1.0000000e+00, 1.4118286e-17]],\n",
       "       dtype=float32),\n",
       " array([[1.0817489e-07, 1.1439855e-06, 1.0000000e+00, 1.6387332e-22]],\n",
       "       dtype=float32),\n",
       " array([[2.1605578e-08, 2.8973897e-03, 1.0000000e+00, 2.9558462e-17]],\n",
       "       dtype=float32),\n",
       " array([[5.5247223e-10, 5.9158506e-08, 1.0000000e+00, 7.7209268e-29]],\n",
       "       dtype=float32),\n",
       " array([[9.9204588e-01, 8.1971546e-10, 1.0000000e+00, 1.3358177e-14]],\n",
       "       dtype=float32),\n",
       " array([[4.5353034e-01, 3.8249190e-08, 1.0000000e+00, 3.2799964e-13]],\n",
       "       dtype=float32),\n",
       " array([[2.1708438e-07, 3.9732265e-07, 1.0000000e+00, 3.0785144e-22]],\n",
       "       dtype=float32),\n",
       " array([[6.7879075e-10, 6.1283761e-10, 1.0000000e+00, 2.1119898e-31]],\n",
       "       dtype=float32),\n",
       " array([[9.8829693e-04, 4.4852042e-11, 1.0000000e+00, 2.9671813e-22]],\n",
       "       dtype=float32),\n",
       " array([[1.07680274e-10, 1.24863218e-04, 1.00000000e+00, 1.06181289e-24]],\n",
       "       dtype=float32),\n",
       " array([[1.3861917e-07, 2.9256341e-07, 1.0000000e+00, 1.2345529e-22]],\n",
       "       dtype=float32),\n",
       " array([[6.3753719e-10, 1.5018340e-06, 1.0000000e+00, 1.1595765e-25]],\n",
       "       dtype=float32),\n",
       " array([[8.4891941e-11, 8.9597864e-07, 1.0000000e+00, 1.7629744e-28]],\n",
       "       dtype=float32),\n",
       " array([[9.9988025e-01, 2.9673190e-13, 1.0000000e+00, 2.1424792e-21]],\n",
       "       dtype=float32),\n",
       " array([[1.0423679e-10, 4.4035730e-11, 1.0000000e+00, 3.1742310e-34]],\n",
       "       dtype=float32),\n",
       " array([[5.2931381e-07, 5.0478000e-10, 1.0000000e+00, 2.5541597e-26]],\n",
       "       dtype=float32),\n",
       " array([[4.3151338e-10, 1.2776652e-01, 1.0000000e+00, 1.8278227e-17]],\n",
       "       dtype=float32),\n",
       " array([[3.7177666e-05, 7.7177165e-03, 1.0000000e+00, 7.2231747e-12]],\n",
       "       dtype=float32),\n",
       " array([[6.9924627e-13, 9.9999481e-01, 1.0000000e+00, 1.7307665e-16]],\n",
       "       dtype=float32),\n",
       " array([[9.8313653e-01, 9.7255366e-08, 1.0000000e+00, 6.6092281e-13]],\n",
       "       dtype=float32),\n",
       " array([[7.74391879e-07, 1.60585678e-08, 1.00000000e+00, 1.14333895e-23]],\n",
       "       dtype=float32),\n",
       " array([[3.2789022e-02, 7.9198064e-05, 1.0000000e+00, 5.0197646e-10]],\n",
       "       dtype=float32),\n",
       " array([[1.7790874e-09, 6.4718733e-07, 1.0000000e+00, 1.0249986e-25]],\n",
       "       dtype=float32),\n",
       " array([[1.1749526e-06, 9.9900740e-01, 1.0000000e+00, 1.3075408e-08]],\n",
       "       dtype=float32),\n",
       " array([[4.6770791e-07, 1.1189431e-08, 1.0000000e+00, 8.5689314e-24]],\n",
       "       dtype=float32),\n",
       " array([[6.0789107e-10, 6.1253552e-08, 1.0000000e+00, 1.4241318e-28]],\n",
       "       dtype=float32),\n",
       " array([[2.6033950e-10, 9.9500620e-01, 1.0000000e+00, 2.5384976e-14]],\n",
       "       dtype=float32),\n",
       " array([[4.7689258e-10, 7.2677254e-13, 1.0000000e+00, 4.1482571e-36]],\n",
       "       dtype=float32),\n",
       " array([[9.9990684e-01, 2.8087089e-14, 1.0000000e+00, 8.7993565e-23]],\n",
       "       dtype=float32),\n",
       " array([[2.4785118e-10, 9.8571597e-08, 1.0000000e+00, 3.0181323e-28]],\n",
       "       dtype=float32),\n",
       " array([[1.7788429e-13, 1.0061007e-12, 1.0000000e+00, 0.0000000e+00]],\n",
       "       dtype=float32),\n",
       " array([[1.0592193e-04, 7.8500244e-07, 1.0000000e+00, 1.9030218e-17]],\n",
       "       dtype=float32),\n",
       " array([[9.9696332e-01, 6.1175552e-12, 1.0000000e+00, 4.4330019e-18]],\n",
       "       dtype=float32),\n",
       " array([[6.1400089e-09, 9.8903793e-01, 1.0000000e+00, 1.2552204e-13]],\n",
       "       dtype=float32),\n",
       " array([[1.0800548e-10, 1.9348125e-04, 1.0000000e+00, 3.8293549e-24]],\n",
       "       dtype=float32),\n",
       " array([[7.8938925e-08, 9.8743399e-08, 1.0000000e+00, 1.5693484e-23]],\n",
       "       dtype=float32),\n",
       " array([[5.0221614e-09, 9.9603373e-01, 1.0000000e+00, 6.5874267e-14]],\n",
       "       dtype=float32),\n",
       " array([[1.2413163e-07, 7.6086076e-14, 1.0000000e+00, 3.4754818e-34]],\n",
       "       dtype=float32),\n",
       " array([[3.9882361e-06, 1.1440233e-09, 1.0000000e+00, 6.6913856e-24]],\n",
       "       dtype=float32),\n",
       " array([[1.24702524e-06, 4.77756187e-03, 1.00000000e+00, 1.06203295e-14]],\n",
       "       dtype=float32),\n",
       " array([[1.2280094e-08, 2.9597450e-07, 1.0000000e+00, 1.6542260e-24]],\n",
       "       dtype=float32),\n",
       " array([[2.5107175e-11, 4.2545548e-08, 1.0000000e+00, 2.6000239e-30]],\n",
       "       dtype=float32),\n",
       " array([[6.9907725e-07, 1.0275432e-05, 1.0000000e+00, 1.6469578e-19]],\n",
       "       dtype=float32),\n",
       " array([[3.7811361e-08, 8.6555241e-07, 1.0000000e+00, 3.1500393e-23]],\n",
       "       dtype=float32),\n",
       " array([[4.4036042e-02, 1.5299499e-06, 1.0000000e+00, 2.3372608e-12]],\n",
       "       dtype=float32),\n",
       " array([[1.3255610e-07, 1.6420852e-05, 1.0000000e+00, 3.9175274e-20]],\n",
       "       dtype=float32),\n",
       " array([[4.9712753e-06, 6.4546269e-01, 1.0000000e+00, 2.5783422e-09]],\n",
       "       dtype=float32),\n",
       " array([[4.0317751e-08, 6.3255470e-07, 1.0000000e+00, 3.9024867e-23]],\n",
       "       dtype=float32),\n",
       " array([[4.8697577e-11, 6.7712869e-03, 1.0000000e+00, 1.0802074e-21]],\n",
       "       dtype=float32),\n",
       " array([[1.5361313e-07, 1.7227930e-12, 1.0000000e+00, 3.4788962e-31]],\n",
       "       dtype=float32),\n",
       " array([[1.1388725e-12, 4.6454684e-07, 1.0000000e+00, 4.2921610e-31]],\n",
       "       dtype=float32),\n",
       " array([[6.8264430e-06, 1.1263345e-12, 1.0000000e+00, 2.7022064e-29]],\n",
       "       dtype=float32),\n",
       " array([[6.7774835e-09, 1.2325932e-05, 1.0000000e+00, 5.8015052e-23]],\n",
       "       dtype=float32),\n",
       " array([[9.9865192e-01, 6.5226926e-09, 1.0000000e+00, 3.5924619e-14]],\n",
       "       dtype=float32),\n",
       " array([[1.0943307e-08, 2.5067795e-11, 1.0000000e+00, 1.0798316e-30]],\n",
       "       dtype=float32),\n",
       " array([[2.5860723e-05, 6.4673666e-09, 1.0000000e+00, 2.5408998e-22]],\n",
       "       dtype=float32),\n",
       " array([[9.9995756e-01, 9.4530377e-11, 1.0000000e+00, 4.8167922e-17]],\n",
       "       dtype=float32)]"
      ]
     },
     "execution_count": 68,
     "metadata": {},
     "output_type": "execute_result"
    }
   ],
   "source": [
    "predictions_list"
   ]
  },
  {
   "cell_type": "code",
   "execution_count": 69,
   "metadata": {},
   "outputs": [],
   "source": [
    "# intermediate_layer_model = tf.keras.Model(inputs=model.input,\n",
    "#                                                outputs=model.get_layer('conv2d_4').output)\n",
    "# activations = intermediate_layer_model.predict(test_image.reshape(1, 64, 64, 1))\n",
    "\n",
    "# print(activations.shape[-1])\n",
    "\n",
    "# plt.figure(figsize=(10, 10))\n",
    "# for i in range(activations.shape[-1]):\n",
    "#     plt.subplot(8, 8, i+1)\n",
    "#     plt.imshow(activations[0, :, :, i], cmap='viridis')\n",
    "#     plt.axis('off')\n",
    "# plt.show()"
   ]
  },
  {
   "cell_type": "markdown",
   "metadata": {},
   "source": [
    "## Saving Model Weights"
   ]
  },
  {
   "cell_type": "code",
   "execution_count": 70,
   "metadata": {},
   "outputs": [
    {
     "name": "stderr",
     "output_type": "stream",
     "text": [
      "/Users/andrew/Desktop/Projects/SelfDrivingCarSimulator/env/lib/python3.10/site-packages/keras/src/engine/training.py:3103: UserWarning: You are saving your model as an HDF5 file via `model.save()`. This file format is considered legacy. We recommend using instead the native Keras format, e.g. `model.save('my_model.keras')`.\n",
      "  saving_api.save_model(\n"
     ]
    }
   ],
   "source": [
    "model.save(\"../models/CNN/CNN_steering_model_manual_gs_CMBx4_10epoch_sig_bc.h5\")"
   ]
  }
 ],
 "metadata": {
  "kernelspec": {
   "display_name": "env",
   "language": "python",
   "name": "python3"
  },
  "language_info": {
   "codemirror_mode": {
    "name": "ipython",
    "version": 3
   },
   "file_extension": ".py",
   "mimetype": "text/x-python",
   "name": "python",
   "nbconvert_exporter": "python",
   "pygments_lexer": "ipython3",
   "version": "3.10.4"
  }
 },
 "nbformat": 4,
 "nbformat_minor": 2
}
