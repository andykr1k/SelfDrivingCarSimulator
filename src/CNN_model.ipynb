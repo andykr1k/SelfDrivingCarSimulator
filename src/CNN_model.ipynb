{
 "cells": [
  {
   "cell_type": "markdown",
   "metadata": {},
   "source": [
    "# Set Up"
   ]
  },
  {
   "cell_type": "markdown",
   "metadata": {},
   "source": [
    "## Importing Libraries"
   ]
  },
  {
   "cell_type": "code",
   "execution_count": 61,
   "metadata": {},
   "outputs": [],
   "source": [
    "import pandas as pd\n",
    "import numpy as np\n",
    "import tensorflow as tf\n",
    "from tensorflow.keras import layers, models, regularizers\n",
    "from sklearn.model_selection import train_test_split\n",
    "from sklearn.preprocessing import StandardScaler\n",
    "from PIL import Image\n",
    "import matplotlib.pyplot as plt\n",
    "from tensorflow.keras.optimizers import Adam"
   ]
  },
  {
   "cell_type": "markdown",
   "metadata": {},
   "source": [
    "## Extra"
   ]
  },
  {
   "cell_type": "markdown",
   "metadata": {},
   "source": [
    "# Data Collection/Preprocessing"
   ]
  },
  {
   "cell_type": "markdown",
   "metadata": {},
   "source": [
    "## Collecting Data"
   ]
  },
  {
   "cell_type": "code",
   "execution_count": 62,
   "metadata": {},
   "outputs": [],
   "source": [
    "data = pd.read_csv(\"../outputs/training_metadata.csv\")"
   ]
  },
  {
   "cell_type": "code",
   "execution_count": 63,
   "metadata": {},
   "outputs": [
    {
     "data": {
      "text/html": [
       "<div>\n",
       "<style scoped>\n",
       "    .dataframe tbody tr th:only-of-type {\n",
       "        vertical-align: middle;\n",
       "    }\n",
       "\n",
       "    .dataframe tbody tr th {\n",
       "        vertical-align: top;\n",
       "    }\n",
       "\n",
       "    .dataframe thead th {\n",
       "        text-align: right;\n",
       "    }\n",
       "</style>\n",
       "<table border=\"1\" class=\"dataframe\">\n",
       "  <thead>\n",
       "    <tr style=\"text-align: right;\">\n",
       "      <th></th>\n",
       "      <th>path</th>\n",
       "      <th>left</th>\n",
       "      <th>right</th>\n",
       "      <th>forward</th>\n",
       "      <th>backward</th>\n",
       "      <th>brake</th>\n",
       "    </tr>\n",
       "  </thead>\n",
       "  <tbody>\n",
       "    <tr>\n",
       "      <th>0</th>\n",
       "      <td>outputs/training_data/10.jpeg</td>\n",
       "      <td>0</td>\n",
       "      <td>0</td>\n",
       "      <td>1</td>\n",
       "      <td>0</td>\n",
       "      <td>0</td>\n",
       "    </tr>\n",
       "    <tr>\n",
       "      <th>1</th>\n",
       "      <td>outputs/training_data/11.jpeg</td>\n",
       "      <td>0</td>\n",
       "      <td>0</td>\n",
       "      <td>1</td>\n",
       "      <td>0</td>\n",
       "      <td>0</td>\n",
       "    </tr>\n",
       "    <tr>\n",
       "      <th>2</th>\n",
       "      <td>outputs/training_data/12.jpeg</td>\n",
       "      <td>0</td>\n",
       "      <td>0</td>\n",
       "      <td>1</td>\n",
       "      <td>0</td>\n",
       "      <td>0</td>\n",
       "    </tr>\n",
       "    <tr>\n",
       "      <th>3</th>\n",
       "      <td>outputs/training_data/13.jpeg</td>\n",
       "      <td>0</td>\n",
       "      <td>0</td>\n",
       "      <td>1</td>\n",
       "      <td>0</td>\n",
       "      <td>0</td>\n",
       "    </tr>\n",
       "    <tr>\n",
       "      <th>4</th>\n",
       "      <td>outputs/training_data/14.jpeg</td>\n",
       "      <td>0</td>\n",
       "      <td>0</td>\n",
       "      <td>1</td>\n",
       "      <td>0</td>\n",
       "      <td>0</td>\n",
       "    </tr>\n",
       "  </tbody>\n",
       "</table>\n",
       "</div>"
      ],
      "text/plain": [
       "                            path  left  right  forward  backward  brake\n",
       "0  outputs/training_data/10.jpeg     0      0        1         0      0\n",
       "1  outputs/training_data/11.jpeg     0      0        1         0      0\n",
       "2  outputs/training_data/12.jpeg     0      0        1         0      0\n",
       "3  outputs/training_data/13.jpeg     0      0        1         0      0\n",
       "4  outputs/training_data/14.jpeg     0      0        1         0      0"
      ]
     },
     "execution_count": 63,
     "metadata": {},
     "output_type": "execute_result"
    }
   ],
   "source": [
    "data.head()"
   ]
  },
  {
   "cell_type": "markdown",
   "metadata": {},
   "source": [
    "## Analyzing Data"
   ]
  },
  {
   "cell_type": "code",
   "execution_count": 64,
   "metadata": {},
   "outputs": [
    {
     "data": {
      "image/png": "[encoded data removed]",
      "text/plain": [
       "<Figure size 1000x600 with 1 Axes>"
      ]
     },
     "metadata": {},
     "output_type": "display_data"
    }
   ],
   "source": [
    "left_labels = data['left']\n",
    "right_labels = data['right']\n",
    "forward_labels = data['forward']\n",
    "backward_labels = data['backward']\n",
    "brake_labels = data['brake']\n",
    "\n",
    "left_counts = left_labels.value_counts()\n",
    "right_counts = right_labels.value_counts()\n",
    "forward_counts = forward_labels.value_counts()\n",
    "backward_counts = backward_labels.value_counts()\n",
    "brake_counts = brake_labels.value_counts()\n",
    "\n",
    "df = pd.DataFrame({\n",
    "    'Left': left_counts,\n",
    "    'Right': right_counts,\n",
    "    'Forward': forward_counts,\n",
    "    'Backward': backward_counts,\n",
    "    'Brake': brake_counts\n",
    "}).transpose()\n",
    "\n",
    "# Plot the distribution of labels\n",
    "fig, ax = plt.subplots(figsize=(10, 6))\n",
    "\n",
    "df.plot(kind='bar', stacked=True, ax=ax)\n",
    "ax.set_title('Label Distribution')\n",
    "ax.set_xlabel('Label')\n",
    "ax.set_ylabel('Frequency')\n",
    "ax.legend(['0', '1'], title='Label')\n",
    "\n",
    "plt.tight_layout()\n",
    "plt.show()"
   ]
  },
  {
   "cell_type": "markdown",
   "metadata": {},
   "source": [
    "## Preprocessing Data"
   ]
  },
  {
   "cell_type": "code",
   "execution_count": 65,
   "metadata": {},
   "outputs": [],
   "source": [
    "def load_image(image_path):\n",
    "    image = Image.open(\"../\"+image_path)\n",
    "    image = np.array(image)\n",
    "    return image"
   ]
  },
  {
   "cell_type": "code",
   "execution_count": 66,
   "metadata": {},
   "outputs": [
    {
     "data": {
      "text/plain": [
       "'outputs/training_data/10.jpeg'"
      ]
     },
     "execution_count": 66,
     "metadata": {},
     "output_type": "execute_result"
    }
   ],
   "source": [
    "data['path'][0]"
   ]
  },
  {
   "cell_type": "code",
   "execution_count": 67,
   "metadata": {},
   "outputs": [],
   "source": [
    "images = [load_image(image_path) for image_path in data['path']]\n",
    "images = np.array(images)"
   ]
  },
  {
   "cell_type": "code",
   "execution_count": 68,
   "metadata": {},
   "outputs": [
    {
     "data": {
      "text/plain": [
       "(64, 64)"
      ]
     },
     "execution_count": 68,
     "metadata": {},
     "output_type": "execute_result"
    }
   ],
   "source": [
    "images[0].shape"
   ]
  },
  {
   "cell_type": "code",
   "execution_count": 69,
   "metadata": {},
   "outputs": [],
   "source": [
    "# mean = np.mean(images, axis=(0, 1, 2))\n",
    "# std = np.std(images, axis=(0, 1, 2))\n",
    "# scaled_images = (images - mean) / std"
   ]
  },
  {
   "cell_type": "code",
   "execution_count": 70,
   "metadata": {},
   "outputs": [],
   "source": [
    "targets = data[['left', 'right', 'forward', 'brake']].values"
   ]
  },
  {
   "cell_type": "markdown",
   "metadata": {},
   "source": [
    "## Splitting Data"
   ]
  },
  {
   "cell_type": "code",
   "execution_count": 71,
   "metadata": {},
   "outputs": [],
   "source": [
    "X_train, X_temp, y_train, y_temp = train_test_split(\n",
    "    images, targets, test_size=0.2, random_state=42)\n",
    "X_val, X_test, y_val, y_test = train_test_split(\n",
    "    X_temp, y_temp, test_size=0.5, random_state=42)"
   ]
  },
  {
   "cell_type": "code",
   "execution_count": 72,
   "metadata": {},
   "outputs": [
    {
     "data": {
      "text/plain": [
       "8056"
      ]
     },
     "execution_count": 72,
     "metadata": {},
     "output_type": "execute_result"
    }
   ],
   "source": [
    "len(X_train)"
   ]
  },
  {
   "cell_type": "code",
   "execution_count": 73,
   "metadata": {},
   "outputs": [
    {
     "data": {
      "text/plain": [
       "1007"
      ]
     },
     "execution_count": 73,
     "metadata": {},
     "output_type": "execute_result"
    }
   ],
   "source": [
    "len(X_test)"
   ]
  },
  {
   "cell_type": "code",
   "execution_count": 74,
   "metadata": {},
   "outputs": [],
   "source": [
    "sample_image_path = \"../outputs/training_data/10.jpeg\"\n",
    "sample_image = Image.open(sample_image_path)\n",
    "image_width, image_height = sample_image.size\n",
    "num_channels = len(sample_image.getbands())"
   ]
  },
  {
   "cell_type": "code",
   "execution_count": 75,
   "metadata": {},
   "outputs": [
    {
     "data": {
      "text/plain": [
       "1"
      ]
     },
     "execution_count": 75,
     "metadata": {},
     "output_type": "execute_result"
    }
   ],
   "source": [
    "num_channels"
   ]
  },
  {
   "cell_type": "markdown",
   "metadata": {},
   "source": [
    "# Neural Network"
   ]
  },
  {
   "cell_type": "markdown",
   "metadata": {},
   "source": [
    "## Model Set Up"
   ]
  },
  {
   "cell_type": "code",
   "execution_count": 76,
   "metadata": {},
   "outputs": [],
   "source": [
    "optimizer = Adam(learning_rate=0.001)"
   ]
  },
  {
   "cell_type": "code",
   "execution_count": 77,
   "metadata": {},
   "outputs": [],
   "source": [
    "# model = models.Sequential([\n",
    "#     layers.Conv2D(32, (3, 3), activation='relu', input_shape=(\n",
    "#         image_height, image_width, num_channels)),\n",
    "#     layers.MaxPooling2D((2, 2)),\n",
    "#     layers.Conv2D(64, (3, 3), activation='relu',\n",
    "#                   kernel_regularizer=regularizers.l2(0.0001)),\n",
    "#     layers.MaxPooling2D((2, 2)),\n",
    "#     layers.Conv2D(64, (3, 3), activation='relu',\n",
    "#                   kernel_regularizer=regularizers.l2(0.0001)),\n",
    "#     layers.Flatten(),\n",
    "#     layers.Dense(64, activation='relu',\n",
    "#                  kernel_regularizer=regularizers.l2(0.0001)),\n",
    "#     layers.Dropout(0.6),\n",
    "#     layers.Dense(4, activation='sigmoid')\n",
    "# ])"
   ]
  },
  {
   "cell_type": "code",
   "execution_count": 78,
   "metadata": {},
   "outputs": [],
   "source": [
    "model = models.Sequential([\n",
    "    layers.Conv2D(128, (3, 3), activation='relu', input_shape=(\n",
    "        image_height, image_width, num_channels)),\n",
    "    layers.MaxPooling2D((2, 2)),\n",
    "    layers.Conv2D(32, (3, 3), activation='relu'),\n",
    "    layers.MaxPooling2D((2, 2)),\n",
    "    layers.Flatten(),\n",
    "    layers.Dense(40, activation='relu'),\n",
    "    layers.Dropout(0.6),\n",
    "    layers.Dense(4, activation='relu')\n",
    "])"
   ]
  },
  {
   "cell_type": "code",
   "execution_count": 79,
   "metadata": {},
   "outputs": [
    {
     "name": "stdout",
     "output_type": "stream",
     "text": [
      "Model: \"sequential_2\"\n",
      "_________________________________________________________________\n",
      " Layer (type)                Output Shape              Param #   \n",
      "=================================================================\n",
      " conv2d_4 (Conv2D)           (None, 62, 62, 128)       1280      \n",
      "                                                                 \n",
      " max_pooling2d_4 (MaxPoolin  (None, 31, 31, 128)       0         \n",
      " g2D)                                                            \n",
      "                                                                 \n",
      " conv2d_5 (Conv2D)           (None, 29, 29, 32)        36896     \n",
      "                                                                 \n",
      " max_pooling2d_5 (MaxPoolin  (None, 14, 14, 32)        0         \n",
      " g2D)                                                            \n",
      "                                                                 \n",
      " flatten_2 (Flatten)         (None, 6272)              0         \n",
      "                                                                 \n",
      " dense_4 (Dense)             (None, 40)                250920    \n",
      "                                                                 \n",
      " dropout_2 (Dropout)         (None, 40)                0         \n",
      "                                                                 \n",
      " dense_5 (Dense)             (None, 4)                 164       \n",
      "                                                                 \n",
      "=================================================================\n",
      "Total params: 289260 (1.10 MB)\n",
      "Trainable params: 289260 (1.10 MB)\n",
      "Non-trainable params: 0 (0.00 Byte)\n",
      "_________________________________________________________________\n"
     ]
    }
   ],
   "source": [
    "model.summary()"
   ]
  },
  {
   "cell_type": "markdown",
   "metadata": {},
   "source": [
    "## Training Model"
   ]
  },
  {
   "cell_type": "code",
   "execution_count": 80,
   "metadata": {},
   "outputs": [],
   "source": [
    "model.compile(optimizer=optimizer, loss='mse')"
   ]
  },
  {
   "cell_type": "code",
   "execution_count": 81,
   "metadata": {},
   "outputs": [
    {
     "name": "stdout",
     "output_type": "stream",
     "text": [
      "Epoch 1/10\n"
     ]
    },
    {
     "name": "stdout",
     "output_type": "stream",
     "text": [
      "252/252 [==============================] - 15s 59ms/step - loss: 3.2481 - val_loss: 0.1814\n",
      "Epoch 2/10\n",
      "252/252 [==============================] - 14s 56ms/step - loss: 0.2486 - val_loss: 0.1840\n",
      "Epoch 3/10\n",
      "252/252 [==============================] - 14s 56ms/step - loss: 0.2467 - val_loss: 0.1794\n",
      "Epoch 4/10\n",
      "252/252 [==============================] - 14s 57ms/step - loss: 0.2268 - val_loss: 0.1524\n",
      "Epoch 5/10\n",
      "252/252 [==============================] - 15s 58ms/step - loss: 0.1753 - val_loss: 0.1233\n",
      "Epoch 6/10\n",
      "252/252 [==============================] - 15s 58ms/step - loss: 0.1394 - val_loss: 0.1084\n",
      "Epoch 7/10\n",
      "252/252 [==============================] - 15s 59ms/step - loss: 0.1175 - val_loss: 0.0939\n",
      "Epoch 8/10\n",
      "252/252 [==============================] - 15s 58ms/step - loss: 0.1035 - val_loss: 0.0855\n",
      "Epoch 9/10\n",
      "252/252 [==============================] - 15s 59ms/step - loss: 0.0895 - val_loss: 0.0718\n",
      "Epoch 10/10\n",
      "252/252 [==============================] - 15s 58ms/step - loss: 0.0824 - val_loss: 0.0655\n"
     ]
    }
   ],
   "source": [
    "history = model.fit(X_train, y_train, epochs=10, validation_data=(X_val, y_val))"
   ]
  },
  {
   "cell_type": "markdown",
   "metadata": {},
   "source": [
    "## Testing Model"
   ]
  },
  {
   "cell_type": "code",
   "execution_count": 82,
   "metadata": {},
   "outputs": [
    {
     "name": "stdout",
     "output_type": "stream",
     "text": [
      "32/32 [==============================] - 1s 16ms/step - loss: 0.0668\n"
     ]
    }
   ],
   "source": [
    "test_loss = model.evaluate(X_test, y_test)"
   ]
  },
  {
   "cell_type": "code",
   "execution_count": 83,
   "metadata": {},
   "outputs": [
    {
     "data": {
      "image/png": "[encoded data removed]",
      "text/plain": [
       "<Figure size 640x480 with 1 Axes>"
      ]
     },
     "metadata": {},
     "output_type": "display_data"
    }
   ],
   "source": [
    "train_loss = history.history['loss']\n",
    "val_loss = history.history['val_loss']\n",
    "\n",
    "epochs = range(1, len(train_loss) + 1)\n",
    "plt.plot(epochs, train_loss, 'bo', label='Training loss')\n",
    "plt.plot(epochs, val_loss, 'r', label='Validation loss')\n",
    "plt.title('Training and Validation Loss')\n",
    "plt.xlabel('Epochs')\n",
    "plt.ylabel('Loss')\n",
    "plt.legend()\n",
    "plt.show()"
   ]
  },
  {
   "cell_type": "code",
   "execution_count": 84,
   "metadata": {},
   "outputs": [
    {
     "data": {
      "image/png": "[encoded data removed]",
      "text/plain": [
       "<Figure size 640x480 with 1 Axes>"
      ]
     },
     "metadata": {},
     "output_type": "display_data"
    }
   ],
   "source": [
    "image = X_test[5]\n",
    "plt.imshow(image)\n",
    "plt.axis('off')\n",
    "plt.show()"
   ]
  },
  {
   "cell_type": "code",
   "execution_count": 85,
   "metadata": {},
   "outputs": [
    {
     "name": "stdout",
     "output_type": "stream",
     "text": [
      "1/1 [==============================] - 0s 56ms/step\n",
      "[[0.07513606 0.         0.93568057 0.        ]]\n"
     ]
    }
   ],
   "source": [
    "test_image = image.reshape(1, image_height, image_width, num_channels)\n",
    "predictions = model.predict(test_image)\n",
    "print(predictions)"
   ]
  },
  {
   "cell_type": "markdown",
   "metadata": {},
   "source": [
    "## Prediction Distribution"
   ]
  },
  {
   "cell_type": "code",
   "execution_count": 86,
   "metadata": {},
   "outputs": [
    {
     "name": "stdout",
     "output_type": "stream",
     "text": [
      "1/1 [==============================] - 0s 19ms/step\n",
      "1/1 [==============================] - 0s 18ms/step\n",
      "1/1 [==============================] - 0s 17ms/step\n",
      "1/1 [==============================] - 0s 18ms/step\n",
      "1/1 [==============================] - 0s 30ms/step\n",
      "1/1 [==============================] - 0s 18ms/step\n",
      "1/1 [==============================] - 0s 18ms/step\n",
      "1/1 [==============================] - 0s 19ms/step\n",
      "1/1 [==============================] - 0s 30ms/step\n",
      "1/1 [==============================] - 0s 18ms/step\n",
      "1/1 [==============================] - 0s 18ms/step\n",
      "1/1 [==============================] - 0s 18ms/step\n",
      "1/1 [==============================] - 0s 18ms/step\n",
      "1/1 [==============================] - 0s 18ms/step\n",
      "1/1 [==============================] - 0s 17ms/step\n",
      "1/1 [==============================] - 0s 17ms/step\n",
      "1/1 [==============================] - 0s 27ms/step\n",
      "1/1 [==============================] - 0s 18ms/step\n",
      "1/1 [==============================] - 0s 19ms/step\n",
      "1/1 [==============================] - 0s 18ms/step\n",
      "1/1 [==============================] - 0s 18ms/step\n",
      "1/1 [==============================] - 0s 19ms/step\n",
      "1/1 [==============================] - 0s 19ms/step\n",
      "1/1 [==============================] - 0s 18ms/step\n",
      "1/1 [==============================] - 0s 18ms/step\n",
      "1/1 [==============================] - 0s 19ms/step\n",
      "1/1 [==============================] - 0s 17ms/step\n",
      "1/1 [==============================] - 0s 18ms/step\n",
      "1/1 [==============================] - 0s 18ms/step\n",
      "1/1 [==============================] - 0s 26ms/step\n",
      "1/1 [==============================] - 0s 23ms/step\n",
      "1/1 [==============================] - 0s 18ms/step\n",
      "1/1 [==============================] - 0s 18ms/step\n",
      "1/1 [==============================] - 0s 18ms/step\n",
      "1/1 [==============================] - 0s 19ms/step\n",
      "1/1 [==============================] - 0s 19ms/step\n",
      "1/1 [==============================] - 0s 21ms/step\n",
      "1/1 [==============================] - 0s 19ms/step\n",
      "1/1 [==============================] - 0s 19ms/step\n",
      "1/1 [==============================] - 0s 18ms/step\n",
      "1/1 [==============================] - 0s 18ms/step\n",
      "1/1 [==============================] - 0s 19ms/step\n",
      "1/1 [==============================] - 0s 18ms/step\n",
      "1/1 [==============================] - 0s 19ms/step\n",
      "1/1 [==============================] - 0s 19ms/step\n",
      "1/1 [==============================] - 0s 19ms/step\n",
      "1/1 [==============================] - 0s 18ms/step\n",
      "1/1 [==============================] - 0s 18ms/step\n",
      "1/1 [==============================] - 0s 18ms/step\n",
      "1/1 [==============================] - 0s 17ms/step\n",
      "1/1 [==============================] - 0s 18ms/step\n",
      "1/1 [==============================] - 0s 18ms/step\n",
      "1/1 [==============================] - 0s 19ms/step\n",
      "1/1 [==============================] - 0s 19ms/step\n",
      "1/1 [==============================] - 0s 18ms/step\n",
      "1/1 [==============================] - 0s 19ms/step\n",
      "1/1 [==============================] - 0s 19ms/step\n",
      "1/1 [==============================] - 0s 18ms/step\n",
      "1/1 [==============================] - 0s 17ms/step\n",
      "1/1 [==============================] - 0s 18ms/step\n",
      "1/1 [==============================] - 0s 18ms/step\n",
      "1/1 [==============================] - 0s 19ms/step\n",
      "1/1 [==============================] - 0s 19ms/step\n",
      "1/1 [==============================] - 0s 19ms/step\n",
      "1/1 [==============================] - 0s 18ms/step\n",
      "1/1 [==============================] - 0s 18ms/step\n",
      "1/1 [==============================] - 0s 19ms/step\n",
      "1/1 [==============================] - 0s 17ms/step\n",
      "1/1 [==============================] - 0s 19ms/step\n",
      "1/1 [==============================] - 0s 17ms/step\n",
      "1/1 [==============================] - 0s 18ms/step\n",
      "1/1 [==============================] - 0s 19ms/step\n",
      "1/1 [==============================] - 0s 18ms/step\n",
      "1/1 [==============================] - 0s 18ms/step\n",
      "1/1 [==============================] - 0s 19ms/step\n",
      "1/1 [==============================] - 0s 17ms/step\n",
      "1/1 [==============================] - 0s 19ms/step\n",
      "1/1 [==============================] - 0s 19ms/step\n",
      "1/1 [==============================] - 0s 19ms/step\n",
      "1/1 [==============================] - 0s 21ms/step\n",
      "1/1 [==============================] - 0s 19ms/step\n",
      "1/1 [==============================] - 0s 20ms/step\n",
      "1/1 [==============================] - 0s 20ms/step\n",
      "1/1 [==============================] - 0s 17ms/step\n",
      "1/1 [==============================] - 0s 27ms/step\n",
      "1/1 [==============================] - 0s 18ms/step\n",
      "1/1 [==============================] - 0s 18ms/step\n",
      "1/1 [==============================] - 0s 18ms/step\n",
      "1/1 [==============================] - 0s 20ms/step\n",
      "1/1 [==============================] - 0s 19ms/step\n",
      "1/1 [==============================] - 0s 18ms/step\n",
      "1/1 [==============================] - 0s 18ms/step\n",
      "1/1 [==============================] - 0s 18ms/step\n",
      "1/1 [==============================] - 0s 18ms/step\n",
      "1/1 [==============================] - 0s 18ms/step\n",
      "1/1 [==============================] - 0s 18ms/step\n",
      "1/1 [==============================] - 0s 18ms/step\n",
      "1/1 [==============================] - 0s 18ms/step\n",
      "1/1 [==============================] - 0s 18ms/step\n",
      "1/1 [==============================] - 0s 18ms/step\n",
      "1/1 [==============================] - 0s 19ms/step\n",
      "1/1 [==============================] - 0s 18ms/step\n",
      "1/1 [==============================] - 0s 18ms/step\n",
      "1/1 [==============================] - 0s 19ms/step\n",
      "1/1 [==============================] - 0s 18ms/step\n",
      "1/1 [==============================] - 0s 18ms/step\n",
      "1/1 [==============================] - 0s 18ms/step\n",
      "1/1 [==============================] - 0s 19ms/step\n",
      "1/1 [==============================] - 0s 18ms/step\n",
      "1/1 [==============================] - 0s 18ms/step\n",
      "1/1 [==============================] - 0s 19ms/step\n",
      "1/1 [==============================] - 0s 18ms/step\n",
      "1/1 [==============================] - 0s 18ms/step\n",
      "1/1 [==============================] - 0s 17ms/step\n",
      "1/1 [==============================] - 0s 18ms/step\n",
      "1/1 [==============================] - 0s 18ms/step\n",
      "1/1 [==============================] - 0s 35ms/step\n",
      "1/1 [==============================] - 0s 19ms/step\n",
      "1/1 [==============================] - 0s 19ms/step\n",
      "1/1 [==============================] - 0s 18ms/step\n",
      "1/1 [==============================] - 0s 19ms/step\n",
      "1/1 [==============================] - 0s 20ms/step\n",
      "1/1 [==============================] - 0s 19ms/step\n",
      "1/1 [==============================] - 0s 18ms/step\n",
      "1/1 [==============================] - 0s 18ms/step\n",
      "1/1 [==============================] - 0s 22ms/step\n",
      "1/1 [==============================] - 0s 19ms/step\n",
      "1/1 [==============================] - 0s 18ms/step\n",
      "1/1 [==============================] - 0s 18ms/step\n",
      "1/1 [==============================] - 0s 17ms/step\n",
      "1/1 [==============================] - 0s 34ms/step\n",
      "1/1 [==============================] - 0s 39ms/step\n",
      "1/1 [==============================] - 0s 19ms/step\n",
      "1/1 [==============================] - 0s 19ms/step\n",
      "1/1 [==============================] - 0s 18ms/step\n",
      "1/1 [==============================] - 0s 18ms/step\n",
      "1/1 [==============================] - 0s 20ms/step\n",
      "1/1 [==============================] - 0s 18ms/step\n",
      "1/1 [==============================] - 0s 18ms/step\n",
      "1/1 [==============================] - 0s 19ms/step\n",
      "1/1 [==============================] - 0s 19ms/step\n",
      "1/1 [==============================] - 0s 19ms/step\n",
      "1/1 [==============================] - 0s 18ms/step\n",
      "1/1 [==============================] - 0s 19ms/step\n",
      "1/1 [==============================] - 0s 18ms/step\n",
      "1/1 [==============================] - 0s 17ms/step\n",
      "1/1 [==============================] - 0s 18ms/step\n",
      "1/1 [==============================] - 0s 19ms/step\n",
      "1/1 [==============================] - 0s 18ms/step\n",
      "1/1 [==============================] - 0s 19ms/step\n",
      "1/1 [==============================] - 0s 18ms/step\n",
      "1/1 [==============================] - 0s 18ms/step\n",
      "1/1 [==============================] - 0s 20ms/step\n",
      "1/1 [==============================] - 0s 18ms/step\n",
      "1/1 [==============================] - 0s 17ms/step\n",
      "1/1 [==============================] - 0s 18ms/step\n",
      "1/1 [==============================] - 0s 18ms/step\n",
      "1/1 [==============================] - 0s 18ms/step\n",
      "1/1 [==============================] - 0s 17ms/step\n",
      "1/1 [==============================] - 0s 19ms/step\n",
      "1/1 [==============================] - 0s 23ms/step\n",
      "1/1 [==============================] - 0s 18ms/step\n",
      "1/1 [==============================] - 0s 20ms/step\n",
      "1/1 [==============================] - 0s 23ms/step\n",
      "1/1 [==============================] - 0s 21ms/step\n",
      "1/1 [==============================] - 0s 18ms/step\n",
      "1/1 [==============================] - 0s 18ms/step\n",
      "1/1 [==============================] - 0s 19ms/step\n",
      "1/1 [==============================] - 0s 18ms/step\n",
      "1/1 [==============================] - 0s 18ms/step\n",
      "1/1 [==============================] - 0s 20ms/step\n",
      "1/1 [==============================] - 0s 19ms/step\n",
      "1/1 [==============================] - 0s 27ms/step\n",
      "1/1 [==============================] - 0s 18ms/step\n",
      "1/1 [==============================] - 0s 17ms/step\n",
      "1/1 [==============================] - 0s 18ms/step\n",
      "1/1 [==============================] - 0s 18ms/step\n",
      "1/1 [==============================] - 0s 18ms/step\n",
      "1/1 [==============================] - 0s 18ms/step\n",
      "1/1 [==============================] - 0s 18ms/step\n",
      "1/1 [==============================] - 0s 18ms/step\n",
      "1/1 [==============================] - 0s 18ms/step\n",
      "1/1 [==============================] - 0s 18ms/step\n",
      "1/1 [==============================] - 0s 18ms/step\n",
      "1/1 [==============================] - 0s 18ms/step\n",
      "1/1 [==============================] - 0s 20ms/step\n",
      "1/1 [==============================] - 0s 18ms/step\n",
      "1/1 [==============================] - 0s 18ms/step\n",
      "1/1 [==============================] - 0s 17ms/step\n",
      "1/1 [==============================] - 0s 19ms/step\n",
      "1/1 [==============================] - 0s 18ms/step\n",
      "1/1 [==============================] - 0s 19ms/step\n",
      "1/1 [==============================] - 0s 18ms/step\n",
      "1/1 [==============================] - 0s 18ms/step\n",
      "1/1 [==============================] - 0s 18ms/step\n",
      "1/1 [==============================] - 0s 18ms/step\n",
      "1/1 [==============================] - 0s 18ms/step\n",
      "1/1 [==============================] - 0s 19ms/step\n",
      "1/1 [==============================] - 0s 19ms/step\n",
      "1/1 [==============================] - 0s 18ms/step\n",
      "1/1 [==============================] - 0s 17ms/step\n",
      "1/1 [==============================] - 0s 19ms/step\n",
      "1/1 [==============================] - 0s 18ms/step\n",
      "1/1 [==============================] - 0s 26ms/step\n",
      "1/1 [==============================] - 0s 20ms/step\n",
      "1/1 [==============================] - 0s 19ms/step\n",
      "1/1 [==============================] - 0s 19ms/step\n",
      "1/1 [==============================] - 0s 20ms/step\n",
      "1/1 [==============================] - 0s 19ms/step\n",
      "1/1 [==============================] - 0s 23ms/step\n",
      "1/1 [==============================] - 0s 19ms/step\n",
      "1/1 [==============================] - 0s 18ms/step\n",
      "1/1 [==============================] - 0s 18ms/step\n",
      "1/1 [==============================] - 0s 19ms/step\n",
      "1/1 [==============================] - 0s 18ms/step\n",
      "1/1 [==============================] - 0s 18ms/step\n",
      "1/1 [==============================] - 0s 18ms/step\n",
      "1/1 [==============================] - 0s 18ms/step\n",
      "1/1 [==============================] - 0s 19ms/step\n",
      "1/1 [==============================] - 0s 17ms/step\n",
      "1/1 [==============================] - 0s 17ms/step\n",
      "1/1 [==============================] - 0s 18ms/step\n",
      "1/1 [==============================] - 0s 18ms/step\n",
      "1/1 [==============================] - 0s 19ms/step\n",
      "1/1 [==============================] - 0s 18ms/step\n",
      "1/1 [==============================] - 0s 18ms/step\n",
      "1/1 [==============================] - 0s 19ms/step\n",
      "1/1 [==============================] - 0s 18ms/step\n",
      "1/1 [==============================] - 0s 18ms/step\n",
      "1/1 [==============================] - 0s 18ms/step\n",
      "1/1 [==============================] - 0s 18ms/step\n",
      "1/1 [==============================] - 0s 19ms/step\n",
      "1/1 [==============================] - 0s 18ms/step\n",
      "1/1 [==============================] - 0s 18ms/step\n",
      "1/1 [==============================] - 0s 17ms/step\n",
      "1/1 [==============================] - 0s 18ms/step\n",
      "1/1 [==============================] - 0s 19ms/step\n",
      "1/1 [==============================] - 0s 17ms/step\n",
      "1/1 [==============================] - 0s 19ms/step\n",
      "1/1 [==============================] - 0s 19ms/step\n",
      "1/1 [==============================] - 0s 17ms/step\n",
      "1/1 [==============================] - 0s 20ms/step\n",
      "1/1 [==============================] - 0s 18ms/step\n",
      "1/1 [==============================] - 0s 18ms/step\n",
      "1/1 [==============================] - 0s 18ms/step\n",
      "1/1 [==============================] - 0s 17ms/step\n",
      "1/1 [==============================] - 0s 19ms/step\n",
      "1/1 [==============================] - 0s 18ms/step\n",
      "1/1 [==============================] - 0s 18ms/step\n",
      "1/1 [==============================] - 0s 19ms/step\n"
     ]
    }
   ],
   "source": [
    "predictions_list = []\n",
    "for num in range(250):\n",
    "    image = X_test[num]\n",
    "    test_image = image.reshape(1, image_height, image_width, num_channels)\n",
    "    prediction = model.predict(test_image)\n",
    "    predictions_list.append(prediction)"
   ]
  },
  {
   "cell_type": "code",
   "execution_count": 87,
   "metadata": {},
   "outputs": [
    {
     "data": {
      "text/plain": [
       "[array([[0.31041226, 0.        , 0.9663179 , 0.        ]], dtype=float32),\n",
       " array([[0.4919658, 0.       , 0.9899596, 0.       ]], dtype=float32),\n",
       " array([[0.39078918, 0.        , 0.97678447, 0.        ]], dtype=float32),\n",
       " array([[0.        , 0.        , 0.92323864, 0.        ]], dtype=float32),\n",
       " array([[0.05188952, 0.        , 0.9326534 , 0.        ]], dtype=float32),\n",
       " array([[0.07513606, 0.        , 0.93568057, 0.        ]], dtype=float32),\n",
       " array([[0.06945804, 0.        , 0.9349412 , 0.        ]], dtype=float32),\n",
       " array([[0.0603088, 0.       , 0.9337498, 0.       ]], dtype=float32),\n",
       " array([[0.        , 0.        , 0.92323864, 0.        ]], dtype=float32),\n",
       " array([[0.05145548, 0.        , 0.9325969 , 0.        ]], dtype=float32),\n",
       " array([[0.25951487, 0.        , 0.95969015, 0.        ]], dtype=float32),\n",
       " array([[0.       , 0.       , 1.0201387, 0.       ]], dtype=float32),\n",
       " array([[0.       , 0.       , 0.9237573, 0.       ]], dtype=float32),\n",
       " array([[0.        , 0.        , 0.92323864, 0.        ]], dtype=float32),\n",
       " array([[0.21222973, 0.        , 0.9535327 , 0.        ]], dtype=float32),\n",
       " array([[0.5189712 , 0.        , 0.99347615, 0.        ]], dtype=float32),\n",
       " array([[0.3900498, 0.       , 0.9766882, 0.       ]], dtype=float32),\n",
       " array([[0.4080469 , 0.        , 0.97903174, 0.        ]], dtype=float32),\n",
       " array([[0.28422529, 0.        , 0.9629079 , 0.        ]], dtype=float32),\n",
       " array([[0.3919702, 0.       , 0.9769383, 0.       ]], dtype=float32),\n",
       " array([[0.02934232, 0.        , 0.92971736, 0.        ]], dtype=float32),\n",
       " array([[0.09281177, 0.        , 0.93798226, 0.        ]], dtype=float32),\n",
       " array([[0.06970368, 0.        , 0.9349732 , 0.        ]], dtype=float32),\n",
       " array([[0.15951478, 0.        , 0.94666827, 0.        ]], dtype=float32),\n",
       " array([[0.45556724, 0.        , 0.98521984, 0.        ]], dtype=float32),\n",
       " array([[0.01295022, 0.        , 0.9275828 , 0.        ]], dtype=float32),\n",
       " array([[0.        , 0.        , 0.92323864, 0.        ]], dtype=float32),\n",
       " array([[0.        , 0.        , 0.92323864, 0.        ]], dtype=float32),\n",
       " array([[0.05070513, 0.        , 0.93249923, 0.        ]], dtype=float32),\n",
       " array([[0.04079396, 0.        , 0.9312086 , 0.        ]], dtype=float32),\n",
       " array([[0.21696216, 0.        , 0.95414895, 0.        ]], dtype=float32),\n",
       " array([[0.       , 0.       , 0.9238212, 0.       ]], dtype=float32),\n",
       " array([[0.        , 0.        , 0.92323864, 0.        ]], dtype=float32),\n",
       " array([[0.05596673, 0.        , 0.9331844 , 0.        ]], dtype=float32),\n",
       " array([[0.1164634 , 0.        , 0.94106215, 0.        ]], dtype=float32),\n",
       " array([[0.       , 0.       , 0.9931389, 0.       ]], dtype=float32),\n",
       " array([[0.5460669, 0.       , 0.9970045, 0.       ]], dtype=float32),\n",
       " array([[0.       , 0.       , 0.9239541, 0.       ]], dtype=float32),\n",
       " array([[0.       , 0.       , 0.9239019, 0.       ]], dtype=float32),\n",
       " array([[0.1576035 , 0.        , 0.94641936, 0.        ]], dtype=float32),\n",
       " array([[0.39060205, 0.        , 0.9766425 , 0.        ]], dtype=float32),\n",
       " array([[0.        , 0.43067616, 0.89337546, 0.        ]], dtype=float32),\n",
       " array([[0.0803503, 0.       , 0.9363596, 0.       ]], dtype=float32),\n",
       " array([[0.02054008, 0.        , 0.92857116, 0.        ]], dtype=float32),\n",
       " array([[0.        , 0.        , 0.92323864, 0.        ]], dtype=float32),\n",
       " array([[0.05381378, 0.        , 0.932904  , 0.        ]], dtype=float32),\n",
       " array([[0.32657826, 0.        , 0.968423  , 0.        ]], dtype=float32),\n",
       " array([[0.34095508, 0.        , 0.9702952 , 0.        ]], dtype=float32),\n",
       " array([[0.09963774, 0.        , 0.93887115, 0.        ]], dtype=float32),\n",
       " array([[0.09374531, 0.        , 0.93810385, 0.        ]], dtype=float32),\n",
       " array([[0.        , 0.        , 0.92323864, 0.        ]], dtype=float32),\n",
       " array([[0.06480058, 0.        , 0.9343347 , 0.        ]], dtype=float32),\n",
       " array([[0.        , 0.        , 0.92323864, 0.        ]], dtype=float32),\n",
       " array([[0.       , 0.4505989, 0.8920018, 0.       ]], dtype=float32),\n",
       " array([[0.        , 0.        , 0.92323864, 0.        ]], dtype=float32),\n",
       " array([[0.       , 0.       , 0.9239541, 0.       ]], dtype=float32),\n",
       " array([[0.21874991, 0.        , 0.95438176, 0.        ]], dtype=float32),\n",
       " array([[0.46214694, 0.        , 0.9860766 , 0.        ]], dtype=float32),\n",
       " array([[0.03029273, 0.        , 0.92984116, 0.        ]], dtype=float32),\n",
       " array([[0.        , 0.        , 0.92323864, 0.        ]], dtype=float32),\n",
       " array([[0.42473328, 0.        , 0.9812046 , 0.        ]], dtype=float32),\n",
       " array([[0.37414962, 0.        , 0.9746177 , 0.        ]], dtype=float32),\n",
       " array([[0.        , 0.34158978, 0.88814664, 0.        ]], dtype=float32),\n",
       " array([[0.4104722, 0.       , 0.9793476, 0.       ]], dtype=float32),\n",
       " array([[0.        , 0.        , 0.92323864, 0.        ]], dtype=float32),\n",
       " array([[0.273263 , 0.       , 0.9614804, 0.       ]], dtype=float32),\n",
       " array([[0.1528574, 0.       , 0.9458013, 0.       ]], dtype=float32),\n",
       " array([[0.05223566, 0.        , 0.9326985 , 0.        ]], dtype=float32),\n",
       " array([[0.08840987, 0.        , 0.93740904, 0.        ]], dtype=float32),\n",
       " array([[0.00637314, 0.        , 0.92672634, 0.        ]], dtype=float32),\n",
       " array([[0.04957917, 0.        , 0.9323526 , 0.        ]], dtype=float32),\n",
       " array([[0.5436667, 0.       , 0.996692 , 0.       ]], dtype=float32),\n",
       " array([[0.032389 , 0.       , 0.9301141, 0.       ]], dtype=float32),\n",
       " array([[0.        , 0.        , 0.92323864, 0.        ]], dtype=float32),\n",
       " array([[0.02839491, 0.        , 0.929594  , 0.        ]], dtype=float32),\n",
       " array([[0.02495974, 0.        , 0.9291467 , 0.        ]], dtype=float32),\n",
       " array([[0.01489319, 0.        , 0.9278358 , 0.        ]], dtype=float32),\n",
       " array([[0.03090844, 0.        , 0.9299213 , 0.        ]], dtype=float32),\n",
       " array([[0.        , 0.        , 0.92323864, 0.        ]], dtype=float32),\n",
       " array([[0.        , 0.        , 0.92323864, 0.        ]], dtype=float32),\n",
       " array([[0.07317167, 0.        , 0.93542475, 0.        ]], dtype=float32),\n",
       " array([[5.2266754e-04, 0.0000000e+00, 9.2596453e-01, 0.0000000e+00]],\n",
       "       dtype=float32),\n",
       " array([[0.02986206, 0.        , 0.9297851 , 0.        ]], dtype=float32),\n",
       " array([[0.06709512, 0.        , 0.9346335 , 0.        ]], dtype=float32),\n",
       " array([[0.21222973, 0.        , 0.9535327 , 0.        ]], dtype=float32),\n",
       " array([[0.       , 0.       , 0.9248754, 0.       ]], dtype=float32),\n",
       " array([[0.0030315, 0.       , 0.9262912, 0.       ]], dtype=float32),\n",
       " array([[0.        , 0.        , 0.92323864, 0.        ]], dtype=float32),\n",
       " array([[0.04693305, 0.        , 0.932008  , 0.        ]], dtype=float32),\n",
       " array([[0.3164058, 0.       , 0.9670984, 0.       ]], dtype=float32),\n",
       " array([[0.27096203, 0.        , 0.96118075, 0.        ]], dtype=float32),\n",
       " array([[0.34397167, 0.        , 0.970688  , 0.        ]], dtype=float32),\n",
       " array([[0.03863928, 0.        , 0.930928  , 0.        ]], dtype=float32),\n",
       " array([[0.273263 , 0.       , 0.9614804, 0.       ]], dtype=float32),\n",
       " array([[0.0018413 , 0.        , 0.92613626, 0.        ]], dtype=float32),\n",
       " array([[0.        , 0.        , 0.92323864, 0.        ]], dtype=float32),\n",
       " array([[0.3848881 , 0.        , 0.97601604, 0.        ]], dtype=float32),\n",
       " array([[0.01771176, 0.        , 0.92820287, 0.        ]], dtype=float32),\n",
       " array([[0.      , 0.      , 0.916344, 0.      ]], dtype=float32),\n",
       " array([[0.        , 0.        , 0.92368656, 0.        ]], dtype=float32),\n",
       " array([[0.00830558, 0.        , 0.926978  , 0.        ]], dtype=float32),\n",
       " array([[0.        , 0.        , 0.92323864, 0.        ]], dtype=float32),\n",
       " array([[0.3384368 , 0.        , 0.96996725, 0.        ]], dtype=float32),\n",
       " array([[0.00096745, 0.        , 0.9260224 , 0.        ]], dtype=float32),\n",
       " array([[0.04163839, 0.        , 0.9313185 , 0.        ]], dtype=float32),\n",
       " array([[0.03064558, 0.        , 0.98730266, 0.        ]], dtype=float32),\n",
       " array([[0.        , 0.        , 0.92323864, 0.        ]], dtype=float32),\n",
       " array([[0.        , 0.        , 0.92323864, 0.        ]], dtype=float32),\n",
       " array([[0.0639459, 0.       , 0.9342234, 0.       ]], dtype=float32),\n",
       " array([[0.        , 0.        , 0.92323864, 0.        ]], dtype=float32),\n",
       " array([[0.11937926, 0.        , 0.94144183, 0.        ]], dtype=float32),\n",
       " array([[0.48252228, 0.        , 0.98872983, 0.        ]], dtype=float32),\n",
       " array([[0.10134894, 0.        , 0.93909395, 0.        ]], dtype=float32),\n",
       " array([[0.4080469 , 0.        , 0.97903174, 0.        ]], dtype=float32),\n",
       " array([[0.09352316, 0.        , 0.9380749 , 0.        ]], dtype=float32),\n",
       " array([[0.       , 0.       , 0.9239516, 0.       ]], dtype=float32),\n",
       " array([[0.        , 0.        , 0.92323864, 0.        ]], dtype=float32),\n",
       " array([[0.00333956, 0.        , 0.92633134, 0.        ]], dtype=float32),\n",
       " array([[0.06375141, 0.        , 0.9341981 , 0.        ]], dtype=float32),\n",
       " array([[0.0744266, 0.       , 0.9355882, 0.       ]], dtype=float32),\n",
       " array([[0.37161034, 0.        , 0.97428703, 0.        ]], dtype=float32),\n",
       " array([[0.00200685, 0.        , 0.9261578 , 0.        ]], dtype=float32),\n",
       " array([[0.        , 0.        , 0.92424244, 0.        ]], dtype=float32),\n",
       " array([[0.07658277, 0.        , 0.935869  , 0.        ]], dtype=float32),\n",
       " array([[0.13311711, 0.        , 0.9432308 , 0.        ]], dtype=float32),\n",
       " array([[0.42280075, 0.        , 0.980953  , 0.        ]], dtype=float32),\n",
       " array([[0.        , 0.        , 0.92323864, 0.        ]], dtype=float32),\n",
       " array([[0.01327144, 0.        , 0.92762464, 0.        ]], dtype=float32),\n",
       " array([[0.4387557, 0.       , 0.9830306, 0.       ]], dtype=float32),\n",
       " array([[0.07521225, 0.        , 0.93569046, 0.        ]], dtype=float32),\n",
       " array([[0.5436667, 0.       , 0.996692 , 0.       ]], dtype=float32),\n",
       " array([[0.        , 0.29018992, 0.89513326, 0.        ]], dtype=float32),\n",
       " array([[0.17873979, 0.        , 0.9491717 , 0.        ]], dtype=float32),\n",
       " array([[0.02677166, 0.        , 0.9293826 , 0.        ]], dtype=float32),\n",
       " array([[0.      , 0.      , 0.970727, 0.      ]], dtype=float32),\n",
       " array([[0.13648847, 0.        , 0.9436698 , 0.        ]], dtype=float32),\n",
       " array([[0.05145548, 0.        , 0.9325969 , 0.        ]], dtype=float32),\n",
       " array([[0.10985946, 0.        , 0.9402022 , 0.        ]], dtype=float32),\n",
       " array([[0.        , 0.        , 0.92323864, 0.        ]], dtype=float32),\n",
       " array([[0.        , 0.        , 0.92323864, 0.        ]], dtype=float32),\n",
       " array([[0.02055057, 0.        , 0.92857254, 0.        ]], dtype=float32),\n",
       " array([[0.        , 0.        , 0.92323864, 0.        ]], dtype=float32),\n",
       " array([[0.        , 0.        , 0.92323864, 0.        ]], dtype=float32),\n",
       " array([[0.4080469 , 0.        , 0.97903174, 0.        ]], dtype=float32),\n",
       " array([[0.        , 0.        , 0.92323864, 0.        ]], dtype=float32),\n",
       " array([[0.        , 0.        , 0.92323864, 0.        ]], dtype=float32),\n",
       " array([[0.3805159, 0.       , 0.9754467, 0.       ]], dtype=float32),\n",
       " array([[0.        , 0.02894037, 0.92107457, 0.        ]], dtype=float32),\n",
       " array([[0.        , 0.03354304, 0.92075723, 0.        ]], dtype=float32),\n",
       " array([[0.03644859, 0.        , 0.9306427 , 0.        ]], dtype=float32),\n",
       " array([[0.        , 0.        , 0.92323864, 0.        ]], dtype=float32),\n",
       " array([[0.35839853, 0.        , 0.9725666 , 0.        ]], dtype=float32),\n",
       " array([[0.37730718, 0.        , 0.9750289 , 0.        ]], dtype=float32),\n",
       " array([[0.03994571, 0.        , 0.9310981 , 0.        ]], dtype=float32),\n",
       " array([[0.06356913, 0.        , 0.93417436, 0.        ]], dtype=float32),\n",
       " array([[0.        , 0.        , 0.92323864, 0.        ]], dtype=float32),\n",
       " array([[0.09374531, 0.        , 0.93810385, 0.        ]], dtype=float32),\n",
       " array([[0.       , 0.       , 0.9254898, 0.       ]], dtype=float32),\n",
       " array([[0.02921619, 0.        , 0.929701  , 0.        ]], dtype=float32),\n",
       " array([[0.04600505, 0.        , 0.93188715, 0.        ]], dtype=float32),\n",
       " array([[0.03547571, 0.        , 0.93051606, 0.        ]], dtype=float32),\n",
       " array([[1.5623681e-04, 0.0000000e+00, 9.2591679e-01, 0.0000000e+00]],\n",
       "       dtype=float32),\n",
       " array([[0.06683332, 0.        , 0.9345994 , 0.        ]], dtype=float32),\n",
       " array([[0.        , 0.        , 0.92323864, 0.        ]], dtype=float32),\n",
       " array([[0.        , 0.        , 0.92323864, 0.        ]], dtype=float32),\n",
       " array([[0.        , 0.        , 0.92323864, 0.        ]], dtype=float32),\n",
       " array([[0.        , 0.        , 0.92323864, 0.        ]], dtype=float32),\n",
       " array([[0.01496125, 0.        , 0.9278447 , 0.        ]], dtype=float32),\n",
       " array([[0.073651  , 0.        , 0.95445544, 0.        ]], dtype=float32),\n",
       " array([[0.03668245, 0.        , 0.9306732 , 0.        ]], dtype=float32),\n",
       " array([[0.        , 0.        , 0.92323864, 0.        ]], dtype=float32),\n",
       " array([[0.        , 0.        , 0.92323864, 0.        ]], dtype=float32),\n",
       " array([[0.00425894, 0.        , 0.926451  , 0.        ]], dtype=float32),\n",
       " array([[0.        , 0.        , 0.92323864, 0.        ]], dtype=float32),\n",
       " array([[0.3525461, 0.       , 0.9718045, 0.       ]], dtype=float32),\n",
       " array([[0.03644859, 0.        , 0.9306427 , 0.        ]], dtype=float32),\n",
       " array([[0.06240856, 0.        , 0.9340232 , 0.        ]], dtype=float32),\n",
       " array([[0.        , 0.        , 0.92323864, 0.        ]], dtype=float32),\n",
       " array([[0.03763168, 0.        , 0.9307968 , 0.        ]], dtype=float32),\n",
       " array([[0.01297624, 0.        , 0.9275862 , 0.        ]], dtype=float32),\n",
       " array([[0.3590225, 0.       , 0.9726479, 0.       ]], dtype=float32),\n",
       " array([[0.        , 0.        , 0.92323864, 0.        ]], dtype=float32),\n",
       " array([[0.       , 0.       , 0.9308553, 0.       ]], dtype=float32),\n",
       " array([[0.02969401, 0.        , 0.9297632 , 0.        ]], dtype=float32),\n",
       " array([[0.        , 0.        , 0.92323864, 0.        ]], dtype=float32),\n",
       " array([[0.        , 0.        , 0.92323864, 0.        ]], dtype=float32),\n",
       " array([[0.        , 0.        , 0.92323864, 0.        ]], dtype=float32),\n",
       " array([[0.01616394, 0.        , 0.9280013 , 0.        ]], dtype=float32),\n",
       " array([[0.       , 0.       , 0.9246531, 0.       ]], dtype=float32),\n",
       " array([[0.04159889, 0.        , 0.9313134 , 0.        ]], dtype=float32),\n",
       " array([[0.06560634, 0.        , 0.9344396 , 0.        ]], dtype=float32),\n",
       " array([[0.        , 0.        , 0.92323864, 0.        ]], dtype=float32),\n",
       " array([[0.        , 0.        , 0.92323864, 0.        ]], dtype=float32),\n",
       " array([[0.00941683, 0.        , 0.9271227 , 0.        ]], dtype=float32),\n",
       " array([[0.        , 0.        , 0.92323864, 0.        ]], dtype=float32),\n",
       " array([[0.13044396, 0.        , 0.9428827 , 0.        ]], dtype=float32),\n",
       " array([[0.        , 0.        , 0.92323864, 0.        ]], dtype=float32),\n",
       " array([[0.4919658, 0.       , 0.9899596, 0.       ]], dtype=float32),\n",
       " array([[0.        , 0.        , 0.92323864, 0.        ]], dtype=float32),\n",
       " array([[0.        , 0.        , 0.92323864, 0.        ]], dtype=float32),\n",
       " array([[0.        , 0.        , 0.92445534, 0.        ]], dtype=float32),\n",
       " array([[0.10051349, 0.        , 0.93898517, 0.        ]], dtype=float32),\n",
       " array([[0.01307057, 0.        , 0.96084034, 0.        ]], dtype=float32),\n",
       " array([[0.3107514 , 0.        , 0.96636206, 0.        ]], dtype=float32),\n",
       " array([[0.05991928, 0.        , 0.9336697 , 0.        ]], dtype=float32),\n",
       " array([[0.02211275, 0.        , 0.92877597, 0.        ]], dtype=float32),\n",
       " array([[0.        , 0.        , 0.92323864, 0.        ]], dtype=float32),\n",
       " array([[0.01837234, 0.        , 0.9282889 , 0.        ]], dtype=float32),\n",
       " array([[0.08951247, 0.        , 0.93755263, 0.        ]], dtype=float32),\n",
       " array([[0.        , 0.        , 0.92339206, 0.        ]], dtype=float32),\n",
       " array([[0.42817956, 0.        , 0.9816534 , 0.        ]], dtype=float32),\n",
       " array([[0.23329109, 0.        , 0.9562753 , 0.        ]], dtype=float32),\n",
       " array([[0.47913492, 0.        , 0.98828876, 0.        ]], dtype=float32),\n",
       " array([[0.       , 0.       , 0.9209169, 0.       ]], dtype=float32),\n",
       " array([[0.08073963, 0.        , 0.93641025, 0.        ]], dtype=float32),\n",
       " array([[0.06263749, 0.        , 0.934053  , 0.        ]], dtype=float32),\n",
       " array([[0.        , 0.41011515, 0.8947931 , 0.        ]], dtype=float32),\n",
       " array([[0.        , 0.        , 0.92459935, 0.        ]], dtype=float32),\n",
       " array([[0.09352316, 0.        , 0.9380749 , 0.        ]], dtype=float32),\n",
       " array([[0.        , 0.        , 0.92323864, 0.        ]], dtype=float32),\n",
       " array([[0.5568619, 0.       , 0.9984102, 0.       ]], dtype=float32),\n",
       " array([[0.19087625, 0.        , 0.9507521 , 0.        ]], dtype=float32),\n",
       " array([[0.       , 0.       , 0.9159043, 0.       ]], dtype=float32),\n",
       " array([[0.        , 0.        , 0.92323864, 0.        ]], dtype=float32),\n",
       " array([[0.        , 0.        , 0.92323864, 0.        ]], dtype=float32),\n",
       " array([[0.02265005, 0.        , 0.92884594, 0.        ]], dtype=float32),\n",
       " array([[0.02502452, 0.        , 0.9291551 , 0.        ]], dtype=float32),\n",
       " array([[0.07388826, 0.        , 0.9355181 , 0.        ]], dtype=float32),\n",
       " array([[0.        , 0.        , 0.92323864, 0.        ]], dtype=float32),\n",
       " array([[0.03064558, 0.        , 0.98730266, 0.        ]], dtype=float32),\n",
       " array([[0.        , 0.        , 0.92323864, 0.        ]], dtype=float32),\n",
       " array([[0.02429151, 0.        , 0.9290597 , 0.        ]], dtype=float32),\n",
       " array([[0.        , 0.        , 0.92323864, 0.        ]], dtype=float32),\n",
       " array([[0.        , 0.        , 0.92323864, 0.        ]], dtype=float32),\n",
       " array([[0.3483453, 0.       , 0.9712575, 0.       ]], dtype=float32),\n",
       " array([[0.        , 0.        , 0.92323864, 0.        ]], dtype=float32),\n",
       " array([[0.        , 0.4318685 , 0.89329326, 0.        ]], dtype=float32),\n",
       " array([[0.02170117, 0.        , 0.9287224 , 0.        ]], dtype=float32),\n",
       " array([[0.38345668, 0.        , 0.97582966, 0.        ]], dtype=float32),\n",
       " array([[0.09085062, 0.        , 0.9377269 , 0.        ]], dtype=float32),\n",
       " array([[0.5007214, 0.       , 0.9910997, 0.       ]], dtype=float32),\n",
       " array([[0.        , 0.        , 0.92323864, 0.        ]], dtype=float32),\n",
       " array([[0.33787268, 0.        , 0.96989375, 0.        ]], dtype=float32),\n",
       " array([[0.19087625, 0.        , 0.9507521 , 0.        ]], dtype=float32),\n",
       " array([[0.        , 0.        , 0.92323864, 0.        ]], dtype=float32),\n",
       " array([[0.06242911, 0.        , 0.9340259 , 0.        ]], dtype=float32),\n",
       " array([[0.09085062, 0.        , 0.9377269 , 0.        ]], dtype=float32),\n",
       " array([[0.3929879, 0.       , 0.9770708, 0.       ]], dtype=float32),\n",
       " array([[0.        , 0.48854372, 0.8893856 , 0.        ]], dtype=float32),\n",
       " array([[0.04398888, 0.        , 0.93162465, 0.        ]], dtype=float32)]"
      ]
     },
     "execution_count": 87,
     "metadata": {},
     "output_type": "execute_result"
    }
   ],
   "source": [
    "predictions_list"
   ]
  },
  {
   "cell_type": "code",
   "execution_count": 88,
   "metadata": {},
   "outputs": [
    {
     "name": "stdout",
     "output_type": "stream",
     "text": [
      "[1 0 1 0]\n",
      "[1 0 1 0]\n",
      "[1 0 1 0]\n",
      "[0 0 1 0]\n",
      "[0 0 1 0]\n",
      "[0 0 1 0]\n",
      "[0 0 1 0]\n",
      "[0 0 1 0]\n",
      "[0 0 1 0]\n",
      "[0 1 1 0]\n",
      "[1 0 1 0]\n",
      "[0 0 1 0]\n",
      "[0 0 1 0]\n",
      "[0 0 1 0]\n",
      "[1 0 1 0]\n",
      "[1 0 1 0]\n",
      "[1 0 1 0]\n",
      "[1 0 1 0]\n",
      "[1 0 1 0]\n",
      "[1 0 1 0]\n",
      "[0 0 1 0]\n",
      "[0 0 1 0]\n",
      "[0 0 1 0]\n",
      "[1 0 1 0]\n",
      "[1 0 1 0]\n",
      "[0 0 1 0]\n",
      "[0 0 1 0]\n",
      "[0 0 1 0]\n",
      "[0 0 1 0]\n",
      "[0 0 1 0]\n",
      "[1 0 1 0]\n",
      "[0 0 1 0]\n",
      "[0 1 1 0]\n",
      "[0 0 1 0]\n",
      "[0 1 1 0]\n",
      "[0 0 1 0]\n",
      "[1 0 1 0]\n",
      "[0 0 1 0]\n",
      "[0 0 1 0]\n",
      "[0 0 1 0]\n",
      "[1 0 1 0]\n",
      "[0 1 1 0]\n",
      "[0 0 1 0]\n",
      "[0 0 1 0]\n",
      "[0 0 1 0]\n",
      "[0 1 1 0]\n",
      "[1 0 1 0]\n",
      "[1 0 1 0]\n",
      "[0 0 1 0]\n",
      "[0 0 1 0]\n",
      "[0 0 1 0]\n",
      "[0 0 1 0]\n",
      "[0 0 1 0]\n",
      "[0 1 1 0]\n",
      "[0 0 1 0]\n",
      "[0 0 1 0]\n",
      "[1 0 1 0]\n",
      "[1 0 1 0]\n",
      "[0 0 1 0]\n",
      "[0 0 1 0]\n",
      "[1 0 1 0]\n",
      "[1 0 1 0]\n",
      "[0 1 1 0]\n",
      "[1 0 1 0]\n",
      "[0 1 1 0]\n",
      "[1 0 1 0]\n",
      "[0 0 1 0]\n",
      "[0 0 1 0]\n",
      "[0 0 1 0]\n",
      "[0 1 1 0]\n",
      "[0 0 1 0]\n",
      "[1 0 1 0]\n",
      "[0 0 1 0]\n",
      "[0 0 1 0]\n",
      "[0 0 1 0]\n",
      "[0 0 1 0]\n",
      "[0 0 1 0]\n",
      "[0 0 1 0]\n",
      "[0 0 1 0]\n",
      "[0 0 1 0]\n",
      "[0 0 1 0]\n",
      "[0 1 1 0]\n",
      "[0 1 1 0]\n",
      "[0 0 1 0]\n",
      "[1 0 1 0]\n",
      "[0 0 1 0]\n",
      "[0 0 1 0]\n",
      "[0 1 1 0]\n",
      "[0 0 1 0]\n",
      "[1 0 1 0]\n",
      "[1 0 1 0]\n",
      "[1 0 1 0]\n",
      "[0 0 1 0]\n",
      "[1 0 1 0]\n",
      "[0 1 1 0]\n",
      "[0 0 1 0]\n",
      "[1 0 1 0]\n",
      "[0 0 1 0]\n",
      "[0 1 1 0]\n",
      "[0 0 1 0]\n",
      "[0 0 1 0]\n",
      "[0 0 0 1]\n",
      "[1 0 1 0]\n",
      "[0 0 1 0]\n",
      "[1 0 1 0]\n",
      "[0 0 1 0]\n",
      "[0 0 1 0]\n",
      "[0 0 1 0]\n",
      "[0 0 1 0]\n",
      "[0 0 1 0]\n",
      "[0 0 1 0]\n",
      "[1 0 1 0]\n",
      "[0 0 1 0]\n",
      "[1 0 1 0]\n",
      "[1 0 1 0]\n",
      "[0 1 1 0]\n",
      "[0 1 1 0]\n",
      "[0 0 1 0]\n",
      "[0 0 1 0]\n",
      "[0 1 1 0]\n",
      "[1 0 1 0]\n",
      "[0 0 1 0]\n",
      "[0 0 1 0]\n",
      "[0 0 1 0]\n",
      "[0 0 1 0]\n",
      "[1 0 1 0]\n",
      "[0 0 1 0]\n",
      "[0 0 1 0]\n",
      "[1 0 1 0]\n",
      "[0 0 1 0]\n",
      "[1 0 1 0]\n",
      "[0 1 1 0]\n",
      "[1 0 1 0]\n",
      "[0 0 1 0]\n",
      "[0 0 1 0]\n",
      "[0 0 1 0]\n",
      "[0 1 1 0]\n",
      "[0 0 1 0]\n",
      "[0 0 1 0]\n",
      "[0 0 1 0]\n",
      "[0 1 1 0]\n",
      "[0 0 1 0]\n",
      "[0 0 1 0]\n",
      "[1 0 1 0]\n",
      "[0 0 1 0]\n",
      "[0 0 1 0]\n",
      "[1 0 1 0]\n",
      "[0 0 0 1]\n",
      "[0 0 1 0]\n",
      "[0 0 1 0]\n",
      "[0 0 1 0]\n",
      "[1 0 1 0]\n",
      "[1 0 1 0]\n",
      "[0 0 1 0]\n",
      "[0 1 1 0]\n",
      "[0 0 1 0]\n",
      "[0 0 1 0]\n",
      "[0 0 1 0]\n",
      "[0 0 1 0]\n",
      "[0 0 1 0]\n",
      "[0 0 1 0]\n",
      "[0 0 1 0]\n",
      "[0 0 1 0]\n",
      "[0 0 1 0]\n",
      "[0 0 1 0]\n",
      "[0 0 1 0]\n",
      "[0 0 1 0]\n",
      "[0 0 1 0]\n",
      "[0 0 1 0]\n",
      "[0 1 1 0]\n",
      "[0 0 1 0]\n",
      "[0 0 1 0]\n",
      "[0 0 1 0]\n",
      "[0 0 1 0]\n",
      "[1 0 1 0]\n",
      "[0 0 1 0]\n",
      "[0 0 1 0]\n",
      "[0 0 0 1]\n",
      "[0 0 1 0]\n",
      "[0 0 1 0]\n",
      "[1 0 1 0]\n",
      "[0 0 1 0]\n",
      "[0 0 1 0]\n",
      "[0 1 1 0]\n",
      "[0 0 1 0]\n",
      "[0 0 1 0]\n",
      "[0 0 1 0]\n",
      "[0 0 1 0]\n",
      "[0 0 1 0]\n",
      "[0 0 1 0]\n",
      "[0 0 1 0]\n",
      "[0 0 0 1]\n",
      "[0 1 1 0]\n",
      "[0 0 1 0]\n",
      "[0 0 1 0]\n",
      "[0 0 1 0]\n",
      "[0 0 0 1]\n",
      "[1 0 1 0]\n",
      "[0 0 1 0]\n",
      "[0 0 1 0]\n",
      "[1 0 1 0]\n",
      "[0 0 1 0]\n",
      "[0 0 1 0]\n",
      "[1 0 1 0]\n",
      "[0 1 1 0]\n",
      "[0 0 1 0]\n",
      "[0 0 0 1]\n",
      "[0 0 1 0]\n",
      "[0 0 1 0]\n",
      "[0 0 1 0]\n",
      "[1 0 1 0]\n",
      "[1 0 1 0]\n",
      "[1 0 1 0]\n",
      "[0 1 1 0]\n",
      "[1 0 1 0]\n",
      "[0 0 1 0]\n",
      "[0 1 1 0]\n",
      "[0 1 1 0]\n",
      "[1 0 1 0]\n",
      "[0 1 1 0]\n",
      "[1 0 1 0]\n",
      "[0 0 1 0]\n",
      "[0 1 1 0]\n",
      "[0 0 1 0]\n",
      "[0 0 1 0]\n",
      "[0 0 1 0]\n",
      "[0 1 1 0]\n",
      "[0 1 1 0]\n",
      "[0 0 1 0]\n",
      "[0 0 1 0]\n",
      "[0 1 1 0]\n",
      "[0 0 1 0]\n",
      "[0 1 1 0]\n",
      "[0 0 1 0]\n",
      "[1 0 1 0]\n",
      "[0 0 1 0]\n",
      "[0 1 1 0]\n",
      "[1 0 1 0]\n",
      "[1 0 1 0]\n",
      "[0 0 1 0]\n",
      "[1 0 1 0]\n",
      "[0 1 1 0]\n",
      "[1 0 1 0]\n",
      "[0 0 1 0]\n",
      "[0 0 1 0]\n",
      "[0 1 1 0]\n",
      "[0 0 1 0]\n",
      "[1 0 1 0]\n",
      "[0 1 1 0]\n",
      "[1 0 1 0]\n"
     ]
    }
   ],
   "source": [
    "for num in range(250):\n",
    "    print(y_test[num])"
   ]
  },
  {
   "cell_type": "markdown",
   "metadata": {},
   "source": [
    "## Saving Model Weights"
   ]
  },
  {
   "cell_type": "code",
   "execution_count": 89,
   "metadata": {},
   "outputs": [
    {
     "name": "stderr",
     "output_type": "stream",
     "text": [
      "c:\\Users\\andyx\\Desktop\\Projects\\SelfDrivingCarSimulator\\env\\lib\\site-packages\\keras\\src\\engine\\training.py:3103: UserWarning: You are saving your model as an HDF5 file via `model.save()`. This file format is considered legacy. We recommend using instead the native Keras format, e.g. `model.save('my_model.keras')`.\n",
      "  saving_api.save_model(\n"
     ]
    }
   ],
   "source": [
    "model.save(\"../models/CNN_steering_model_gs_64.h5\")"
   ]
  }
 ],
 "metadata": {
  "kernelspec": {
   "display_name": "env",
   "language": "python",
   "name": "python3"
  },
  "language_info": {
   "codemirror_mode": {
    "name": "ipython",
    "version": 3
   },
   "file_extension": ".py",
   "mimetype": "text/x-python",
   "name": "python",
   "nbconvert_exporter": "python",
   "pygments_lexer": "ipython3",
   "version": "3.10.7"
  }
 },
 "nbformat": 4,
 "nbformat_minor": 2
}
