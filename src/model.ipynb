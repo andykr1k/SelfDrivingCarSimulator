{
 "cells": [
  {
   "cell_type": "markdown",
   "metadata": {},
   "source": [
    "# Set Up"
   ]
  },
  {
   "cell_type": "markdown",
   "metadata": {},
   "source": [
    "## Importing Libraries"
   ]
  },
  {
   "cell_type": "code",
   "execution_count": 244,
   "metadata": {},
   "outputs": [],
   "source": [
    "import pandas as pd\n",
    "import numpy as np\n",
    "import tensorflow as tf\n",
    "from tensorflow.keras import layers, models, regularizers\n",
    "from sklearn.model_selection import train_test_split\n",
    "from sklearn.preprocessing import StandardScaler\n",
    "from PIL import Image\n",
    "import matplotlib.pyplot as plt\n",
    "from tensorflow.keras.optimizers import Adam"
   ]
  },
  {
   "cell_type": "markdown",
   "metadata": {},
   "source": [
    "## Extra"
   ]
  },
  {
   "cell_type": "markdown",
   "metadata": {},
   "source": [
    "# Data Collection/Preprocessing"
   ]
  },
  {
   "cell_type": "markdown",
   "metadata": {},
   "source": [
    "## Collecting Data"
   ]
  },
  {
   "cell_type": "code",
   "execution_count": 245,
   "metadata": {},
   "outputs": [],
   "source": [
    "data = pd.read_csv(\"../outputs/training_metadata.csv\")"
   ]
  },
  {
   "cell_type": "code",
   "execution_count": 246,
   "metadata": {},
   "outputs": [
    {
     "data": {
      "text/html": [
       "<div>\n",
       "<style scoped>\n",
       "    .dataframe tbody tr th:only-of-type {\n",
       "        vertical-align: middle;\n",
       "    }\n",
       "\n",
       "    .dataframe tbody tr th {\n",
       "        vertical-align: top;\n",
       "    }\n",
       "\n",
       "    .dataframe thead th {\n",
       "        text-align: right;\n",
       "    }\n",
       "</style>\n",
       "<table border=\"1\" class=\"dataframe\">\n",
       "  <thead>\n",
       "    <tr style=\"text-align: right;\">\n",
       "      <th></th>\n",
       "      <th>path</th>\n",
       "      <th>left</th>\n",
       "      <th>right</th>\n",
       "      <th>forward</th>\n",
       "      <th>backward</th>\n",
       "      <th>brake</th>\n",
       "    </tr>\n",
       "  </thead>\n",
       "  <tbody>\n",
       "    <tr>\n",
       "      <th>0</th>\n",
       "      <td>outputs/training_data/1.jpeg</td>\n",
       "      <td>0</td>\n",
       "      <td>0</td>\n",
       "      <td>1</td>\n",
       "      <td>0</td>\n",
       "      <td>0</td>\n",
       "    </tr>\n",
       "    <tr>\n",
       "      <th>1</th>\n",
       "      <td>outputs/training_data/vertically_flipped_1.jpeg</td>\n",
       "      <td>0</td>\n",
       "      <td>0</td>\n",
       "      <td>1</td>\n",
       "      <td>0</td>\n",
       "      <td>0</td>\n",
       "    </tr>\n",
       "    <tr>\n",
       "      <th>2</th>\n",
       "      <td>outputs/training_data/horizontally_flipped_1.jpeg</td>\n",
       "      <td>0</td>\n",
       "      <td>0</td>\n",
       "      <td>1</td>\n",
       "      <td>0</td>\n",
       "      <td>0</td>\n",
       "    </tr>\n",
       "    <tr>\n",
       "      <th>3</th>\n",
       "      <td>outputs/training_data/2.jpeg</td>\n",
       "      <td>0</td>\n",
       "      <td>0</td>\n",
       "      <td>1</td>\n",
       "      <td>0</td>\n",
       "      <td>0</td>\n",
       "    </tr>\n",
       "    <tr>\n",
       "      <th>4</th>\n",
       "      <td>outputs/training_data/vertically_flipped_2.jpeg</td>\n",
       "      <td>0</td>\n",
       "      <td>0</td>\n",
       "      <td>1</td>\n",
       "      <td>0</td>\n",
       "      <td>0</td>\n",
       "    </tr>\n",
       "  </tbody>\n",
       "</table>\n",
       "</div>"
      ],
      "text/plain": [
       "                                                path  left  right  forward  \\\n",
       "0                       outputs/training_data/1.jpeg     0      0        1   \n",
       "1    outputs/training_data/vertically_flipped_1.jpeg     0      0        1   \n",
       "2  outputs/training_data/horizontally_flipped_1.jpeg     0      0        1   \n",
       "3                       outputs/training_data/2.jpeg     0      0        1   \n",
       "4    outputs/training_data/vertically_flipped_2.jpeg     0      0        1   \n",
       "\n",
       "   backward  brake  \n",
       "0         0      0  \n",
       "1         0      0  \n",
       "2         0      0  \n",
       "3         0      0  \n",
       "4         0      0  "
      ]
     },
     "execution_count": 246,
     "metadata": {},
     "output_type": "execute_result"
    }
   ],
   "source": [
    "data.head()"
   ]
  },
  {
   "cell_type": "markdown",
   "metadata": {},
   "source": [
    "## Analyzing Data"
   ]
  },
  {
   "cell_type": "code",
   "execution_count": 247,
   "metadata": {},
   "outputs": [
    {
     "data": {
      "image/png": "[encoded data removed]",
      "text/plain": [
       "<Figure size 1000x600 with 1 Axes>"
      ]
     },
     "metadata": {},
     "output_type": "display_data"
    }
   ],
   "source": [
    "left_labels = data['left']\n",
    "right_labels = data['right']\n",
    "forward_labels = data['forward']\n",
    "backward_labels = data['backward']\n",
    "brake_labels = data['brake']\n",
    "\n",
    "left_counts = left_labels.value_counts()\n",
    "right_counts = right_labels.value_counts()\n",
    "forward_counts = forward_labels.value_counts()\n",
    "backward_counts = backward_labels.value_counts()\n",
    "brake_counts = brake_labels.value_counts()\n",
    "\n",
    "df = pd.DataFrame({\n",
    "    'Left': left_counts,\n",
    "    'Right': right_counts,\n",
    "    'Forward': forward_counts,\n",
    "    'Backward': backward_counts,\n",
    "    'Brake': brake_counts\n",
    "}).transpose()\n",
    "\n",
    "# Plot the distribution of labels\n",
    "fig, ax = plt.subplots(figsize=(10, 6))\n",
    "\n",
    "df.plot(kind='bar', stacked=True, ax=ax)\n",
    "ax.set_title('Label Distribution')\n",
    "ax.set_xlabel('Label')\n",
    "ax.set_ylabel('Frequency')\n",
    "ax.legend(['0', '1'], title='Label')\n",
    "\n",
    "plt.tight_layout()\n",
    "plt.show()"
   ]
  },
  {
   "cell_type": "markdown",
   "metadata": {},
   "source": [
    "## Preprocessing Data"
   ]
  },
  {
   "cell_type": "code",
   "execution_count": 248,
   "metadata": {},
   "outputs": [],
   "source": [
    "def load_image(image_path):\n",
    "    image = Image.open(\"../\"+image_path)\n",
    "    image = np.array(image)\n",
    "    return image"
   ]
  },
  {
   "cell_type": "code",
   "execution_count": 249,
   "metadata": {},
   "outputs": [
    {
     "data": {
      "text/plain": [
       "'outputs/training_data/1.jpeg'"
      ]
     },
     "execution_count": 249,
     "metadata": {},
     "output_type": "execute_result"
    }
   ],
   "source": [
    "data['path'][0]"
   ]
  },
  {
   "cell_type": "code",
   "execution_count": 250,
   "metadata": {},
   "outputs": [],
   "source": [
    "images = [load_image(image_path) for image_path in data['path']]\n",
    "images = np.array(images)"
   ]
  },
  {
   "cell_type": "code",
   "execution_count": 251,
   "metadata": {},
   "outputs": [],
   "source": [
    "targets = data[['left', 'right', 'forward', 'brake']].values"
   ]
  },
  {
   "cell_type": "markdown",
   "metadata": {},
   "source": [
    "## Splitting Data"
   ]
  },
  {
   "cell_type": "code",
   "execution_count": 252,
   "metadata": {},
   "outputs": [],
   "source": [
    "X_train, X_temp, y_train, y_temp = train_test_split(\n",
    "    images, targets, test_size=0.2, random_state=42)\n",
    "X_val, X_test, y_val, y_test = train_test_split(\n",
    "    X_temp, y_temp, test_size=0.5, random_state=42)"
   ]
  },
  {
   "cell_type": "code",
   "execution_count": 253,
   "metadata": {},
   "outputs": [],
   "source": [
    "sample_image_path = \"../outputs/training_data/1.jpeg\"\n",
    "sample_image = Image.open(sample_image_path)\n",
    "image_width, image_height = sample_image.size\n",
    "num_channels = len(sample_image.getbands())"
   ]
  },
  {
   "cell_type": "markdown",
   "metadata": {},
   "source": [
    "# Neural Network"
   ]
  },
  {
   "cell_type": "markdown",
   "metadata": {},
   "source": [
    "## Model Set Up"
   ]
  },
  {
   "cell_type": "code",
   "execution_count": 254,
   "metadata": {},
   "outputs": [],
   "source": [
    "optimizer = Adam(learning_rate=0.001)"
   ]
  },
  {
   "cell_type": "code",
   "execution_count": 255,
   "metadata": {},
   "outputs": [],
   "source": [
    "model = models.Sequential([\n",
    "    layers.Conv2D(32, (3, 3), activation='relu', input_shape=(\n",
    "        image_height, image_width, num_channels)),\n",
    "    layers.MaxPooling2D((2, 2)),\n",
    "    layers.Conv2D(64, (3, 3), activation='relu',\n",
    "                  kernel_regularizer=regularizers.l2(0.0001)),\n",
    "    layers.MaxPooling2D((2, 2)),\n",
    "    layers.Conv2D(64, (3, 3), activation='relu',\n",
    "                  kernel_regularizer=regularizers.l2(0.0001)),\n",
    "    layers.Flatten(),\n",
    "    layers.Dense(64, activation='relu',\n",
    "                 kernel_regularizer=regularizers.l2(0.0001)),\n",
    "    layers.Dropout(0.6),\n",
    "    layers.Dense(4, activation='sigmoid')\n",
    "])"
   ]
  },
  {
   "cell_type": "code",
   "execution_count": 256,
   "metadata": {},
   "outputs": [
    {
     "name": "stdout",
     "output_type": "stream",
     "text": [
      "Model: \"sequential_11\"\n",
      "_________________________________________________________________\n",
      " Layer (type)                Output Shape              Param #   \n",
      "=================================================================\n",
      " conv2d_31 (Conv2D)          (None, 98, 98, 32)        896       \n",
      "                                                                 \n",
      " max_pooling2d_21 (MaxPooli  (None, 49, 49, 32)        0         \n",
      " ng2D)                                                           \n",
      "                                                                 \n",
      " conv2d_32 (Conv2D)          (None, 47, 47, 64)        18496     \n",
      "                                                                 \n",
      " max_pooling2d_22 (MaxPooli  (None, 23, 23, 64)        0         \n",
      " ng2D)                                                           \n",
      "                                                                 \n",
      " conv2d_33 (Conv2D)          (None, 21, 21, 64)        36928     \n",
      "                                                                 \n",
      " flatten_11 (Flatten)        (None, 28224)             0         \n",
      "                                                                 \n",
      " dense_22 (Dense)            (None, 64)                1806400   \n",
      "                                                                 \n",
      " dropout_11 (Dropout)        (None, 64)                0         \n",
      "                                                                 \n",
      " dense_23 (Dense)            (None, 4)                 260       \n",
      "                                                                 \n",
      "=================================================================\n",
      "Total params: 1862980 (7.11 MB)\n",
      "Trainable params: 1862980 (7.11 MB)\n",
      "Non-trainable params: 0 (0.00 Byte)\n",
      "_________________________________________________________________\n"
     ]
    }
   ],
   "source": [
    "model.summary()"
   ]
  },
  {
   "cell_type": "markdown",
   "metadata": {},
   "source": [
    "## Training Model"
   ]
  },
  {
   "cell_type": "code",
   "execution_count": 257,
   "metadata": {},
   "outputs": [],
   "source": [
    "model.compile(optimizer=optimizer, loss='mse')"
   ]
  },
  {
   "cell_type": "code",
   "execution_count": 258,
   "metadata": {},
   "outputs": [
    {
     "name": "stdout",
     "output_type": "stream",
     "text": [
      "Epoch 1/25\n",
      "82/82 [==============================] - 6s 65ms/step - loss: 0.3336 - val_loss: 0.3607\n",
      "Epoch 2/25\n",
      "82/82 [==============================] - 5s 64ms/step - loss: 0.2507 - val_loss: 0.1546\n",
      "Epoch 3/25\n",
      "82/82 [==============================] - 5s 64ms/step - loss: 0.2486 - val_loss: 0.1558\n",
      "Epoch 4/25\n",
      "82/82 [==============================] - 5s 64ms/step - loss: 0.3056 - val_loss: 0.2861\n",
      "Epoch 5/25\n",
      "82/82 [==============================] - 5s 64ms/step - loss: 0.3099 - val_loss: 0.2854\n",
      "Epoch 6/25\n",
      "82/82 [==============================] - 5s 65ms/step - loss: 0.2994 - val_loss: 0.2845\n",
      "Epoch 7/25\n",
      "82/82 [==============================] - 5s 64ms/step - loss: 0.2848 - val_loss: 0.2841\n",
      "Epoch 8/25\n",
      "82/82 [==============================] - 5s 64ms/step - loss: 0.2771 - val_loss: 0.1547\n",
      "Epoch 9/25\n",
      "82/82 [==============================] - 5s 64ms/step - loss: 0.2854 - val_loss: 0.1545\n",
      "Epoch 10/25\n",
      "82/82 [==============================] - 5s 65ms/step - loss: 0.2875 - val_loss: 0.1541\n",
      "Epoch 11/25\n",
      "82/82 [==============================] - 5s 64ms/step - loss: 0.2457 - val_loss: 0.1553\n",
      "Epoch 12/25\n",
      "82/82 [==============================] - 5s 64ms/step - loss: 0.3043 - val_loss: 0.1559\n",
      "Epoch 13/25\n",
      "82/82 [==============================] - 5s 64ms/step - loss: 0.3157 - val_loss: 0.1553\n",
      "Epoch 14/25\n",
      "82/82 [==============================] - 5s 64ms/step - loss: 0.3206 - val_loss: 0.1547\n",
      "Epoch 15/25\n",
      "82/82 [==============================] - 5s 64ms/step - loss: 0.3098 - val_loss: 0.1541\n",
      "Epoch 16/25\n",
      "82/82 [==============================] - 5s 65ms/step - loss: 0.3165 - val_loss: 0.1536\n",
      "Epoch 17/25\n",
      "82/82 [==============================] - 5s 64ms/step - loss: 0.3238 - val_loss: 0.1532\n",
      "Epoch 18/25\n",
      "82/82 [==============================] - 5s 64ms/step - loss: 0.3187 - val_loss: 0.1539\n",
      "Epoch 19/25\n",
      "82/82 [==============================] - 5s 64ms/step - loss: 0.3132 - val_loss: 0.1534\n",
      "Epoch 20/25\n",
      "82/82 [==============================] - 5s 64ms/step - loss: 0.3158 - val_loss: 0.1530\n",
      "Epoch 21/25\n",
      "82/82 [==============================] - 5s 64ms/step - loss: 0.3161 - val_loss: 0.1526\n",
      "Epoch 22/25\n",
      "82/82 [==============================] - 5s 65ms/step - loss: 0.3221 - val_loss: 0.1522\n",
      "Epoch 23/25\n",
      "82/82 [==============================] - 5s 65ms/step - loss: 0.3164 - val_loss: 0.1518\n",
      "Epoch 24/25\n",
      "82/82 [==============================] - 5s 62ms/step - loss: 0.3171 - val_loss: 0.1515\n",
      "Epoch 25/25\n",
      "82/82 [==============================] - 5s 63ms/step - loss: 0.3158 - val_loss: 0.1511\n"
     ]
    }
   ],
   "source": [
    "history = model.fit(X_train, y_train, epochs=25,\n",
    "                    validation_data=(X_val, y_val))"
   ]
  },
  {
   "cell_type": "markdown",
   "metadata": {},
   "source": [
    "## Testing Model"
   ]
  },
  {
   "cell_type": "code",
   "execution_count": 259,
   "metadata": {},
   "outputs": [
    {
     "name": "stdout",
     "output_type": "stream",
     "text": [
      "11/11 [==============================] - 0s 14ms/step - loss: 0.1565\n"
     ]
    }
   ],
   "source": [
    "test_loss = model.evaluate(X_test, y_test)"
   ]
  },
  {
   "cell_type": "code",
   "execution_count": 260,
   "metadata": {},
   "outputs": [
    {
     "data": {
      "image/png": "[encoded data removed]",
      "text/plain": [
       "<Figure size 640x480 with 1 Axes>"
      ]
     },
     "metadata": {},
     "output_type": "display_data"
    }
   ],
   "source": [
    "train_loss = history.history['loss']\n",
    "val_loss = history.history['val_loss']\n",
    "\n",
    "epochs = range(1, len(train_loss) + 1)\n",
    "plt.plot(epochs, train_loss, 'bo', label='Training loss')\n",
    "plt.plot(epochs, val_loss, 'r', label='Validation loss')\n",
    "plt.title('Training and Validation Loss')\n",
    "plt.xlabel('Epochs')\n",
    "plt.ylabel('Loss')\n",
    "plt.legend()\n",
    "plt.show()"
   ]
  },
  {
   "cell_type": "code",
   "execution_count": 261,
   "metadata": {},
   "outputs": [
    {
     "data": {
      "image/png": "[encoded data removed]",
      "text/plain": [
       "<Figure size 640x480 with 1 Axes>"
      ]
     },
     "metadata": {},
     "output_type": "display_data"
    }
   ],
   "source": [
    "image = X_test[8]\n",
    "plt.imshow(image)\n",
    "plt.axis('off')\n",
    "plt.show()"
   ]
  },
  {
   "cell_type": "code",
   "execution_count": 262,
   "metadata": {},
   "outputs": [],
   "source": [
    "test_image = image.reshape(1, image_height, image_width, num_channels)"
   ]
  },
  {
   "cell_type": "code",
   "execution_count": 263,
   "metadata": {},
   "outputs": [
    {
     "name": "stdout",
     "output_type": "stream",
     "text": [
      "1/1 [==============================] - 0s 71ms/step\n"
     ]
    }
   ],
   "source": [
    "predictions = model.predict(test_image)"
   ]
  },
  {
   "cell_type": "code",
   "execution_count": 264,
   "metadata": {},
   "outputs": [
    {
     "name": "stdout",
     "output_type": "stream",
     "text": [
      "[[0. 0. 1. 0.]]\n"
     ]
    }
   ],
   "source": [
    "print(predictions)"
   ]
  },
  {
   "cell_type": "markdown",
   "metadata": {},
   "source": [
    "## Prediction Distribution"
   ]
  },
  {
   "cell_type": "code",
   "execution_count": 265,
   "metadata": {},
   "outputs": [
    {
     "name": "stdout",
     "output_type": "stream",
     "text": [
      "1/1 [==============================] - 0s 18ms/step\n",
      "1/1 [==============================] - 0s 18ms/step\n",
      "1/1 [==============================] - 0s 18ms/step\n",
      "1/1 [==============================] - 0s 18ms/step\n",
      "1/1 [==============================] - 0s 18ms/step\n",
      "1/1 [==============================] - 0s 19ms/step\n",
      "1/1 [==============================] - 0s 18ms/step\n",
      "1/1 [==============================] - 0s 18ms/step\n",
      "1/1 [==============================] - 0s 19ms/step\n",
      "1/1 [==============================] - 0s 18ms/step\n",
      "1/1 [==============================] - 0s 18ms/step\n",
      "1/1 [==============================] - 0s 18ms/step\n",
      "1/1 [==============================] - 0s 18ms/step\n",
      "1/1 [==============================] - 0s 17ms/step\n",
      "1/1 [==============================] - 0s 18ms/step\n",
      "1/1 [==============================] - 0s 19ms/step\n",
      "1/1 [==============================] - 0s 18ms/step\n",
      "1/1 [==============================] - 0s 18ms/step\n",
      "1/1 [==============================] - 0s 18ms/step\n",
      "1/1 [==============================] - 0s 18ms/step\n",
      "1/1 [==============================] - 0s 18ms/step\n",
      "1/1 [==============================] - 0s 18ms/step\n",
      "1/1 [==============================] - 0s 18ms/step\n",
      "1/1 [==============================] - 0s 18ms/step\n",
      "1/1 [==============================] - 0s 17ms/step\n",
      "1/1 [==============================] - 0s 19ms/step\n",
      "1/1 [==============================] - 0s 18ms/step\n",
      "1/1 [==============================] - 0s 18ms/step\n",
      "1/1 [==============================] - 0s 18ms/step\n",
      "1/1 [==============================] - 0s 18ms/step\n",
      "1/1 [==============================] - 0s 17ms/step\n",
      "1/1 [==============================] - 0s 18ms/step\n",
      "1/1 [==============================] - 0s 18ms/step\n",
      "1/1 [==============================] - 0s 19ms/step\n",
      "1/1 [==============================] - 0s 18ms/step\n",
      "1/1 [==============================] - 0s 18ms/step\n",
      "1/1 [==============================] - 0s 19ms/step\n",
      "1/1 [==============================] - 0s 18ms/step\n",
      "1/1 [==============================] - 0s 18ms/step\n",
      "1/1 [==============================] - 0s 18ms/step\n",
      "1/1 [==============================] - 0s 18ms/step\n",
      "1/1 [==============================] - 0s 17ms/step\n",
      "1/1 [==============================] - 0s 18ms/step\n",
      "1/1 [==============================] - 0s 19ms/step\n",
      "1/1 [==============================] - 0s 18ms/step\n",
      "1/1 [==============================] - 0s 18ms/step\n",
      "1/1 [==============================] - 0s 18ms/step\n",
      "1/1 [==============================] - 0s 18ms/step\n",
      "1/1 [==============================] - 0s 18ms/step\n",
      "1/1 [==============================] - 0s 18ms/step\n",
      "1/1 [==============================] - 0s 18ms/step\n",
      "1/1 [==============================] - 0s 18ms/step\n",
      "1/1 [==============================] - 0s 19ms/step\n",
      "1/1 [==============================] - 0s 17ms/step\n",
      "1/1 [==============================] - 0s 19ms/step\n",
      "1/1 [==============================] - 0s 18ms/step\n",
      "1/1 [==============================] - 0s 18ms/step\n",
      "1/1 [==============================] - 0s 17ms/step\n",
      "1/1 [==============================] - 0s 19ms/step\n",
      "1/1 [==============================] - 0s 19ms/step\n",
      "1/1 [==============================] - 0s 17ms/step\n",
      "1/1 [==============================] - 0s 19ms/step\n",
      "1/1 [==============================] - 0s 19ms/step\n",
      "1/1 [==============================] - 0s 18ms/step\n",
      "1/1 [==============================] - 0s 18ms/step\n",
      "1/1 [==============================] - 0s 17ms/step\n",
      "1/1 [==============================] - 0s 18ms/step\n",
      "1/1 [==============================] - 0s 18ms/step\n",
      "1/1 [==============================] - 0s 18ms/step\n",
      "1/1 [==============================] - 0s 19ms/step\n",
      "1/1 [==============================] - 0s 18ms/step\n",
      "1/1 [==============================] - 0s 18ms/step\n",
      "1/1 [==============================] - 0s 19ms/step\n",
      "1/1 [==============================] - 0s 18ms/step\n",
      "1/1 [==============================] - 0s 17ms/step\n",
      "1/1 [==============================] - 0s 18ms/step\n",
      "1/1 [==============================] - 0s 18ms/step\n",
      "1/1 [==============================] - 0s 18ms/step\n",
      "1/1 [==============================] - 0s 18ms/step\n",
      "1/1 [==============================] - 0s 19ms/step\n",
      "1/1 [==============================] - 0s 18ms/step\n",
      "1/1 [==============================] - 0s 19ms/step\n",
      "1/1 [==============================] - 0s 18ms/step\n",
      "1/1 [==============================] - 0s 18ms/step\n",
      "1/1 [==============================] - 0s 18ms/step\n",
      "1/1 [==============================] - 0s 18ms/step\n",
      "1/1 [==============================] - 0s 18ms/step\n",
      "1/1 [==============================] - 0s 18ms/step\n",
      "1/1 [==============================] - 0s 19ms/step\n",
      "1/1 [==============================] - 0s 18ms/step\n",
      "1/1 [==============================] - 0s 17ms/step\n",
      "1/1 [==============================] - 0s 18ms/step\n",
      "1/1 [==============================] - 0s 18ms/step\n",
      "1/1 [==============================] - 0s 18ms/step\n",
      "1/1 [==============================] - 0s 18ms/step\n",
      "1/1 [==============================] - 0s 19ms/step\n",
      "1/1 [==============================] - 0s 18ms/step\n",
      "1/1 [==============================] - 0s 18ms/step\n",
      "1/1 [==============================] - 0s 19ms/step\n",
      "1/1 [==============================] - 0s 18ms/step\n"
     ]
    }
   ],
   "source": [
    "predictions_list = []\n",
    "for num in range(100):\n",
    "    image = X_test[num]\n",
    "    test_image = image.reshape(1, image_height, image_width, num_channels)\n",
    "    prediction = model.predict(test_image)\n",
    "    predictions_list.append(prediction)"
   ]
  },
  {
   "cell_type": "code",
   "execution_count": 266,
   "metadata": {},
   "outputs": [
    {
     "data": {
      "text/plain": [
       "[array([[0., 0., 1., 0.]], dtype=float32),\n",
       " array([[0., 0., 1., 0.]], dtype=float32),\n",
       " array([[0., 0., 1., 0.]], dtype=float32),\n",
       " array([[0., 0., 1., 0.]], dtype=float32),\n",
       " array([[0., 0., 1., 0.]], dtype=float32),\n",
       " array([[0., 0., 1., 0.]], dtype=float32),\n",
       " array([[0., 0., 1., 0.]], dtype=float32),\n",
       " array([[0., 0., 1., 0.]], dtype=float32),\n",
       " array([[0., 0., 1., 0.]], dtype=float32),\n",
       " array([[0., 0., 1., 0.]], dtype=float32),\n",
       " array([[0., 0., 1., 0.]], dtype=float32),\n",
       " array([[0., 0., 1., 0.]], dtype=float32),\n",
       " array([[0., 0., 1., 0.]], dtype=float32),\n",
       " array([[0., 0., 1., 0.]], dtype=float32),\n",
       " array([[0., 0., 1., 0.]], dtype=float32),\n",
       " array([[0., 0., 1., 0.]], dtype=float32),\n",
       " array([[0., 0., 1., 0.]], dtype=float32),\n",
       " array([[0., 0., 1., 0.]], dtype=float32),\n",
       " array([[0., 0., 1., 0.]], dtype=float32),\n",
       " array([[0., 0., 1., 0.]], dtype=float32),\n",
       " array([[0., 0., 1., 0.]], dtype=float32),\n",
       " array([[0., 0., 1., 0.]], dtype=float32),\n",
       " array([[0., 0., 1., 0.]], dtype=float32),\n",
       " array([[0., 0., 1., 0.]], dtype=float32),\n",
       " array([[0., 0., 1., 0.]], dtype=float32),\n",
       " array([[0., 0., 1., 0.]], dtype=float32),\n",
       " array([[0., 0., 1., 0.]], dtype=float32),\n",
       " array([[0., 0., 1., 0.]], dtype=float32),\n",
       " array([[0., 0., 1., 0.]], dtype=float32),\n",
       " array([[0., 0., 1., 0.]], dtype=float32),\n",
       " array([[0., 0., 1., 0.]], dtype=float32),\n",
       " array([[0., 0., 1., 0.]], dtype=float32),\n",
       " array([[0., 0., 1., 0.]], dtype=float32),\n",
       " array([[0., 0., 1., 0.]], dtype=float32),\n",
       " array([[0., 0., 1., 0.]], dtype=float32),\n",
       " array([[0., 0., 1., 0.]], dtype=float32),\n",
       " array([[0., 0., 1., 0.]], dtype=float32),\n",
       " array([[0., 0., 1., 0.]], dtype=float32),\n",
       " array([[0., 0., 1., 0.]], dtype=float32),\n",
       " array([[0., 0., 1., 0.]], dtype=float32),\n",
       " array([[0., 0., 1., 0.]], dtype=float32),\n",
       " array([[0., 0., 1., 0.]], dtype=float32),\n",
       " array([[0., 0., 1., 0.]], dtype=float32),\n",
       " array([[0., 0., 1., 0.]], dtype=float32),\n",
       " array([[0., 0., 1., 0.]], dtype=float32),\n",
       " array([[0., 0., 1., 0.]], dtype=float32),\n",
       " array([[0., 0., 1., 0.]], dtype=float32),\n",
       " array([[0., 0., 1., 0.]], dtype=float32),\n",
       " array([[0., 0., 1., 0.]], dtype=float32),\n",
       " array([[0., 0., 1., 0.]], dtype=float32),\n",
       " array([[0., 0., 1., 0.]], dtype=float32),\n",
       " array([[0., 0., 1., 0.]], dtype=float32),\n",
       " array([[0., 0., 1., 0.]], dtype=float32),\n",
       " array([[0., 0., 1., 0.]], dtype=float32),\n",
       " array([[0., 0., 1., 0.]], dtype=float32),\n",
       " array([[0., 0., 1., 0.]], dtype=float32),\n",
       " array([[0., 0., 1., 0.]], dtype=float32),\n",
       " array([[0., 0., 1., 0.]], dtype=float32),\n",
       " array([[0., 0., 1., 0.]], dtype=float32),\n",
       " array([[0., 0., 1., 0.]], dtype=float32),\n",
       " array([[0., 0., 1., 0.]], dtype=float32),\n",
       " array([[0., 0., 1., 0.]], dtype=float32),\n",
       " array([[0., 0., 1., 0.]], dtype=float32),\n",
       " array([[0., 0., 1., 0.]], dtype=float32),\n",
       " array([[0., 0., 1., 0.]], dtype=float32),\n",
       " array([[0., 0., 1., 0.]], dtype=float32),\n",
       " array([[0., 0., 1., 0.]], dtype=float32),\n",
       " array([[0., 0., 1., 0.]], dtype=float32),\n",
       " array([[0., 0., 1., 0.]], dtype=float32),\n",
       " array([[0., 0., 1., 0.]], dtype=float32),\n",
       " array([[0., 0., 1., 0.]], dtype=float32),\n",
       " array([[0., 0., 1., 0.]], dtype=float32),\n",
       " array([[0., 0., 1., 0.]], dtype=float32),\n",
       " array([[0., 0., 1., 0.]], dtype=float32),\n",
       " array([[0., 0., 1., 0.]], dtype=float32),\n",
       " array([[0., 0., 1., 0.]], dtype=float32),\n",
       " array([[0., 0., 1., 0.]], dtype=float32),\n",
       " array([[0., 0., 1., 0.]], dtype=float32),\n",
       " array([[0., 0., 1., 0.]], dtype=float32),\n",
       " array([[0., 0., 1., 0.]], dtype=float32),\n",
       " array([[0., 0., 1., 0.]], dtype=float32),\n",
       " array([[0., 0., 1., 0.]], dtype=float32),\n",
       " array([[0., 0., 1., 0.]], dtype=float32),\n",
       " array([[0., 0., 1., 0.]], dtype=float32),\n",
       " array([[0., 0., 1., 0.]], dtype=float32),\n",
       " array([[0., 0., 1., 0.]], dtype=float32),\n",
       " array([[0., 0., 1., 0.]], dtype=float32),\n",
       " array([[0., 0., 1., 0.]], dtype=float32),\n",
       " array([[0., 0., 1., 0.]], dtype=float32),\n",
       " array([[0., 0., 1., 0.]], dtype=float32),\n",
       " array([[0., 0., 1., 0.]], dtype=float32),\n",
       " array([[0., 0., 1., 0.]], dtype=float32),\n",
       " array([[0., 0., 1., 0.]], dtype=float32),\n",
       " array([[0., 0., 1., 0.]], dtype=float32),\n",
       " array([[0., 0., 1., 0.]], dtype=float32),\n",
       " array([[0., 0., 1., 0.]], dtype=float32),\n",
       " array([[0., 0., 1., 0.]], dtype=float32),\n",
       " array([[0., 0., 1., 0.]], dtype=float32),\n",
       " array([[0., 0., 1., 0.]], dtype=float32),\n",
       " array([[0., 0., 1., 0.]], dtype=float32)]"
      ]
     },
     "execution_count": 266,
     "metadata": {},
     "output_type": "execute_result"
    }
   ],
   "source": [
    "predictions_list"
   ]
  },
  {
   "cell_type": "markdown",
   "metadata": {},
   "source": [
    "## Saving Model Weights"
   ]
  },
  {
   "cell_type": "code",
   "execution_count": 267,
   "metadata": {},
   "outputs": [
    {
     "name": "stderr",
     "output_type": "stream",
     "text": [
      "c:\\Users\\andyx\\Desktop\\Projects\\SelfDrivingCarSimulator\\env\\lib\\site-packages\\keras\\src\\engine\\training.py:3103: UserWarning: You are saving your model as an HDF5 file via `model.save()`. This file format is considered legacy. We recommend using instead the native Keras format, e.g. `model.save('my_model.keras')`.\n",
      "  saving_api.save_model(\n"
     ]
    }
   ],
   "source": [
    "model.save(\"../models/CNN_steering_model.h5\")"
   ]
  }
 ],
 "metadata": {
  "kernelspec": {
   "display_name": "env",
   "language": "python",
   "name": "python3"
  },
  "language_info": {
   "codemirror_mode": {
    "name": "ipython",
    "version": 3
   },
   "file_extension": ".py",
   "mimetype": "text/x-python",
   "name": "python",
   "nbconvert_exporter": "python",
   "pygments_lexer": "ipython3",
   "version": "3.10.7"
  }
 },
 "nbformat": 4,
 "nbformat_minor": 2
}
